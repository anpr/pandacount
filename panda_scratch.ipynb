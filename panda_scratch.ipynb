{
 "cells": [
  {
   "cell_type": "code",
   "execution_count": 2,
   "outputs": [],
   "source": [
    "from typing import List, Callable\n",
    "\n",
    "import yaml\n",
    "import pandas as pd\n",
    "import typer\n",
    "from toolz import pipe\n",
    "\n",
    "\n",
    "from contextlib import contextmanager\n",
    "\n",
    "\n",
    "\n",
    "@contextmanager\n",
    "def skip_lines_until(file_name: str, predicate: Callable[[str], bool]):\n",
    "    \"\"\"Skips lines until the predicate is true.\n",
    "    Then yields the file _including_ the line where the predicate is true.\"\"\"\n",
    "    with open(file_name, mode=\"r\", encoding=\"iso-8859-1\") as f:\n",
    "        pos = f.tell()\n",
    "        while not predicate(f.readline()):\n",
    "            pos = f.tell()\n",
    "            # Go back to the bqeginning of the line\n",
    "        f.seek(pos)\n",
    "        yield f\n",
    "\n",
    "\n",
    "def to_raw_df(file_name: str) -> pd.DataFrame:\n",
    "    with skip_lines_until(file_name, lambda line: line.startswith(\"Buchung;Valuta;Auftraggeber\")) as f:\n",
    "        raw_df = pd.read_csv(f, sep=\";\", encoding=\"iso-8859-1\")\n",
    "        raw_df.rename(\n",
    "            columns={\n",
    "                \"Währung.1\": \"currency1\",\n",
    "                \"Währung\": \"currency\",\n",
    "                \"Auftraggeber/Empfänger\": \"party\",\n",
    "                \"Buchungstext\": \"book_text\",\n",
    "                \"Verwendungszweck\": \"purpose\",\n",
    "            },\n",
    "            inplace=True,\n",
    "        )\n",
    "        raw_df[\"book_date\"] = pd.to_datetime(raw_df[\"Buchung\"], dayfirst=True)\n",
    "        raw_df[\"valuta_date\"] = pd.to_datetime(raw_df[\"Valuta\"], dayfirst=True)\n",
    "        raw_df[\"amount\"] = pd.to_numeric(\n",
    "            raw_df[\"Betrag\"].str.replace(\".\", \"\", regex=False).str.replace(\",\", \".\", regex=False)\n",
    "        )\n",
    "        raw_df[\"balance\"] = pd.to_numeric(\n",
    "            raw_df[\"Saldo\"].str.replace(\".\", \"\", regex=False).str.replace(\",\", \".\", regex=False)\n",
    "        )\n",
    "    return raw_df\n",
    "\n",
    "\n",
    "def to_df(raw_df: pd.DataFrame) -> pd.DataFrame:\n",
    "    df = raw_df[[\"book_date\", \"valuta_date\", \"party\", \"book_text\", \"purpose\", \"amount\", \"balance\"]]\n",
    "    category_attribute_subs_map = {\n",
    "        \"bargeld\": {\"party\": [\"bargeldauszahlung\"]},\n",
    "        \"einkaufen\": {\n",
    "            \"party\": [\n",
    "                \"bio company\",\n",
    "                \"biobackhaus\",\n",
    "                \"edeka\",\n",
    "                \"dm-drogerie\",\n",
    "                \"steinecke\",\n",
    "                \"nah und gut\",\n",
    "                \"visa ralf oelmann\",\n",
    "                \"combi verbrauchermarkt\",\n",
    "                \"tchibo\",\n",
    "                \"REWE MARKT\",\n",
    "                \"VISA REWE VIKTOR ADLER\",\n",
    "                \"VISA LPG BIOMARKT\",\n",
    "                \"VISA BILLA DANKT\",\n",
    "            ],\n",
    "            \"purpose\": [\n",
    "                \"KoRo Handels GmbH\",\n",
    "                \"KoRo Drogerie GmbH\",\n",
    "                \"BIO COMPANY GmbH\",\n",
    "                \"gewuerzland\",\n",
    "            ],\n",
    "        },\n",
    "        \"einnahmen\": {\"party\": [\"andreas edmond profous\"]},\n",
    "        \"einnahmen::dividende\": {\"purpose\": [\"dividende\"]},\n",
    "        \"geschenk\": {\n",
    "            \"party\": [\"VISA SPIELVOGEL\"],\n",
    "            \"purpose\": [\"superiore.de\", \"geschenk mama\", \"Marimekko\"],\n",
    "        },\n",
    "        \"gesundheit\": {\n",
    "            \"party\": [\n",
    "                \"ZAHNARZT DR. MUELLER\",\n",
    "                \"JOSEPHINEN APOTHEKE\",\n",
    "                \"PRAGER APOTHEKE\",\n",
    "                \"FORTUNA APOTHEKE\",\n",
    "            ],\n",
    "            \"purpose\": [\"Center-Apotheke im Minipreis\", \"SPEICKSHOP\", \"SHAVING.IE\"],\n",
    "        },\n",
    "        \"kleidung\": {\"party\": [\"VISA MAGAZZINO\"]},\n",
    "        \"kinder\": {\n",
    "            \"party\": [\n",
    "                \"Carolina Sgro\",\n",
    "                \"Musikschule City West\",\n",
    "                \"KINDER- UND JUGEND-, REIT- UND FAHRVEREIN ZEHLENDORF E.V.\",\n",
    "            ],\n",
    "            \"purpose\": [\"Zoologischer Garten Be\", \"Kinderschwimmen\"],\n",
    "        },\n",
    "        \"kinder::sparen\": {\"purpose\": [\"Sparen Depot Paula\"]},\n",
    "        \"kinder::schule\": {\"purpose\": [\"Kassenzeichen: 2134900496613 Paula Profous\"]},\n",
    "        \"media\": {\n",
    "            \"party\": [\"amznprime\", \"prime video\", \"abo lage der nation\", \"aws emea\", \"thalia.de\"],\n",
    "            \"purpose\": [\"Spotify AB\", \"audible.de\", \"netflix.com\"],\n",
    "        },\n",
    "        \"mobilitaet::auto\": {\n",
    "            \"party\": [\n",
    "                \"sprint station\",\n",
    "                \"visa shell\",\n",
    "                \"riller & schnauck\",\n",
    "                \"Bundeskasse in Kiel\",\n",
    "                \"VISA STOP + GO SYSTEMZENTRA\",\n",
    "                \"ARAL AG\",\n",
    "                \"Worldline Sweden AB fuer Shell\",\n",
    "                \"VISA ARAL STATION\",\n",
    "            ],\n",
    "            \"purpose\": [\"CosmosDirekt Kfz Beitrag\"],\n",
    "        },\n",
    "        \"mobilitaet::autoleihen\": {\"party\": [\"VISA ENTERPRISE RENT A CAR\", \"VISA RENTALCARS.COM\"]},\n",
    "        \"mobilitaet::fahrrad\": {\"party\": [\"bike market city\", \"FAHRRADLADEN MEHRINGHOF\"]},\n",
    "        \"mobilitaet::fliegen\": {\n",
    "            \"party\": [\"RYANAIR\"],\n",
    "            \"purpose\": [\n",
    "                \"ryanair limited\",\n",
    "                \"deutsche lufthansa\",\n",
    "                \"Koninklijke Luchtvaart Maatschappij\",\n",
    "            ],\n",
    "        },\n",
    "        \"mobilitaet::oeffentlich\": {\n",
    "            \"party\": [\"bvg app\", \"DB Fernverkehr AG\"],\n",
    "            \"purpose\": [\"DB Vertrieb GmbH\"],\n",
    "        },\n",
    "        \"intern\": {\"party\": [\"andreas profous\"]},\n",
    "        \"intern::rente\": {\"purpose\": [\"Wertpapierkauf\"], \"book_text\": [\"Wertpapierkauf\"]},\n",
    "        \"intern::steuerklasse\": {\"purpose\": [\"Ausgleich Steuerklasse\"]},\n",
    "        \"restaurant\": {\n",
    "            \"party\": [\n",
    "                \"cocolo ramen\",\n",
    "                \"HAPPINESSHEART\",\n",
    "                \"lieferando.de\",\n",
    "                \"VISA RESTAURANT LENZIG\",\n",
    "                \"VISA RESTAURANT KOINONIA\",\n",
    "                \"VISA RESTAURANT BEL MONDO\",\n",
    "                \"RESTAURANT PARACAS\",\n",
    "                \"VISA EATAROUND DELIVERY\",\n",
    "                \"VISA ZIMT UND ZUCKER\",\n",
    "                \"VISA SPC*RESTAURANT BAHADUR\",\n",
    "                \"VISA RESTAURANTE CALIBOCCA\",\n",
    "                \"VISA SY RESTAURANT\",\n",
    "            ]\n",
    "        },\n",
    "        \"spenden\": {\"party\": [\"Aerzte ohne Grenzen eV\"]},\n",
    "        \"sport\": {\"party\": [\"Katherine Finger\"]},\n",
    "        \"urlaub\": {\"purpose\": [\"Airbnb Payments\", \"airbnb\"]},\n",
    "        \"wohnen\": {\"purpose\": [\"Rate, Putzen, Naturstrom\", \"Ausgleich WEG\"]},\n",
    "    }\n",
    "\n",
    "    for category, subs_map in category_attribute_subs_map.items():\n",
    "        for attribute, subs in subs_map.items():\n",
    "            for sub in subs:\n",
    "                df.loc[\n",
    "                    df[attribute].fillna(\"\").str.lower().str.contains(sub.lower()), \"category\"\n",
    "                ] = category\n",
    "\n",
    "    df.loc[\n",
    "        df.party.fillna(\"\").str.lower().str.contains(\"VISA APPLE.COM/BILL\".lower())\n",
    "        & (df.amount > -50),\n",
    "        \"category\",\n",
    "    ] = \"media\"\n",
    "\n",
    "    return df"
   ],
   "metadata": {
    "collapsed": false,
    "pycharm": {
     "name": "#%%\n"
    }
   }
  },
  {
   "cell_type": "code",
   "execution_count": 3,
   "outputs": [
    {
     "name": "stderr",
     "output_type": "stream",
     "text": [
      "/var/folders/s6/f25gt9z13js7h0gph573x98m0000gn/T/ipykernel_80802/3082091453.py:162: SettingWithCopyWarning: \n",
      "A value is trying to be set on a copy of a slice from a DataFrame.\n",
      "Try using .loc[row_indexer,col_indexer] = value instead\n",
      "\n",
      "See the caveats in the documentation: https://pandas.pydata.org/pandas-docs/stable/user_guide/indexing.html#returning-a-view-versus-a-copy\n",
      "  df.loc[\n"
     ]
    }
   ],
   "source": [
    "df = pipe(\"downloads/Umsatzanzeige_DE97500105175409854125_20220412.csv\", to_raw_df, to_df)"
   ],
   "metadata": {
    "collapsed": false,
    "pycharm": {
     "name": "#%%\n"
    }
   }
  },
  {
   "cell_type": "code",
   "execution_count": 11,
   "outputs": [],
   "source": [
    "def to_yaml(df: pd.DataFrame):\n",
    "    \"\"\"\n",
    "    Convert the dataframe to a yaml file.\n",
    "\n",
    "    Args:\n",
    "        df: The dataframe to convert.\n",
    "\n",
    "    Returns:\n",
    "        The dataframe as a yaml file.\n",
    "    \"\"\"\n",
    "    df[\"book_date\"] = df.book_date.df.strftime(\"%Y-%m-%d\")\n",
    "    df[\"valuta_date\"] = df.valuta_date.df.strftime(\"%Y-%m-%d\")\n",
    "    yml = yaml.dump(\n",
    "        df.reset_index().to_dict(orient='records'),\n",
    "        sort_keys=False, width=72, indent=4,\n",
    "        default_flow_style=None)\n",
    "    print(yml)"
   ],
   "metadata": {
    "collapsed": false,
    "pycharm": {
     "name": "#%%\n"
    }
   }
  },
  {
   "cell_type": "code",
   "execution_count": 12,
   "outputs": [
    {
     "ename": "AttributeError",
     "evalue": "'Series' object has no attribute 'df'",
     "output_type": "error",
     "traceback": [
      "\u001B[0;31m---------------------------------------------------------------------------\u001B[0m",
      "\u001B[0;31mAttributeError\u001B[0m                            Traceback (most recent call last)",
      "Input \u001B[0;32mIn [12]\u001B[0m, in \u001B[0;36m<cell line: 1>\u001B[0;34m()\u001B[0m\n\u001B[0;32m----> 1\u001B[0m \u001B[43mto_yaml\u001B[49m\u001B[43m(\u001B[49m\u001B[43mdf\u001B[49m\u001B[43m)\u001B[49m\n",
      "Input \u001B[0;32mIn [11]\u001B[0m, in \u001B[0;36mto_yaml\u001B[0;34m(df)\u001B[0m\n\u001B[1;32m      1\u001B[0m \u001B[38;5;28;01mdef\u001B[39;00m \u001B[38;5;21mto_yaml\u001B[39m(df: pd\u001B[38;5;241m.\u001B[39mDataFrame):\n\u001B[1;32m      2\u001B[0m     \u001B[38;5;124;03m\"\"\"\u001B[39;00m\n\u001B[1;32m      3\u001B[0m \u001B[38;5;124;03m    Convert the dataframe to a yaml file.\u001B[39;00m\n\u001B[1;32m      4\u001B[0m \n\u001B[0;32m   (...)\u001B[0m\n\u001B[1;32m      9\u001B[0m \u001B[38;5;124;03m        The dataframe as a yaml file.\u001B[39;00m\n\u001B[1;32m     10\u001B[0m \u001B[38;5;124;03m    \"\"\"\u001B[39;00m\n\u001B[0;32m---> 11\u001B[0m     df[\u001B[38;5;124m\"\u001B[39m\u001B[38;5;124mbook_date\u001B[39m\u001B[38;5;124m\"\u001B[39m] \u001B[38;5;241m=\u001B[39m \u001B[43mdf\u001B[49m\u001B[38;5;241;43m.\u001B[39;49m\u001B[43mbook_date\u001B[49m\u001B[38;5;241;43m.\u001B[39;49m\u001B[43mdf\u001B[49m\u001B[38;5;241m.\u001B[39mstrftime(\u001B[38;5;124m\"\u001B[39m\u001B[38;5;124m%\u001B[39m\u001B[38;5;124mY-\u001B[39m\u001B[38;5;124m%\u001B[39m\u001B[38;5;124mm-\u001B[39m\u001B[38;5;132;01m%d\u001B[39;00m\u001B[38;5;124m\"\u001B[39m)\n\u001B[1;32m     12\u001B[0m     df[\u001B[38;5;124m\"\u001B[39m\u001B[38;5;124mvaluta_date\u001B[39m\u001B[38;5;124m\"\u001B[39m] \u001B[38;5;241m=\u001B[39m df\u001B[38;5;241m.\u001B[39mvaluta_date\u001B[38;5;241m.\u001B[39mdf\u001B[38;5;241m.\u001B[39mstrftime(\u001B[38;5;124m\"\u001B[39m\u001B[38;5;124m%\u001B[39m\u001B[38;5;124mY-\u001B[39m\u001B[38;5;124m%\u001B[39m\u001B[38;5;124mm-\u001B[39m\u001B[38;5;132;01m%d\u001B[39;00m\u001B[38;5;124m\"\u001B[39m)\n\u001B[1;32m     13\u001B[0m     yml \u001B[38;5;241m=\u001B[39m yaml\u001B[38;5;241m.\u001B[39mdump(\n\u001B[1;32m     14\u001B[0m         df\u001B[38;5;241m.\u001B[39mreset_index()\u001B[38;5;241m.\u001B[39mto_dict(orient\u001B[38;5;241m=\u001B[39m\u001B[38;5;124m'\u001B[39m\u001B[38;5;124mrecords\u001B[39m\u001B[38;5;124m'\u001B[39m),\n\u001B[1;32m     15\u001B[0m         sort_keys\u001B[38;5;241m=\u001B[39m\u001B[38;5;28;01mFalse\u001B[39;00m, width\u001B[38;5;241m=\u001B[39m\u001B[38;5;241m72\u001B[39m, indent\u001B[38;5;241m=\u001B[39m\u001B[38;5;241m4\u001B[39m,\n\u001B[1;32m     16\u001B[0m         default_flow_style\u001B[38;5;241m=\u001B[39m\u001B[38;5;28;01mNone\u001B[39;00m)\n",
      "File \u001B[0;32m~/.pyenv/versions/3.10.0/lib/python3.10/site-packages/pandas/core/generic.py:5575\u001B[0m, in \u001B[0;36mNDFrame.__getattr__\u001B[0;34m(self, name)\u001B[0m\n\u001B[1;32m   5568\u001B[0m \u001B[38;5;28;01mif\u001B[39;00m (\n\u001B[1;32m   5569\u001B[0m     name \u001B[38;5;129;01mnot\u001B[39;00m \u001B[38;5;129;01min\u001B[39;00m \u001B[38;5;28mself\u001B[39m\u001B[38;5;241m.\u001B[39m_internal_names_set\n\u001B[1;32m   5570\u001B[0m     \u001B[38;5;129;01mand\u001B[39;00m name \u001B[38;5;129;01mnot\u001B[39;00m \u001B[38;5;129;01min\u001B[39;00m \u001B[38;5;28mself\u001B[39m\u001B[38;5;241m.\u001B[39m_metadata\n\u001B[1;32m   5571\u001B[0m     \u001B[38;5;129;01mand\u001B[39;00m name \u001B[38;5;129;01mnot\u001B[39;00m \u001B[38;5;129;01min\u001B[39;00m \u001B[38;5;28mself\u001B[39m\u001B[38;5;241m.\u001B[39m_accessors\n\u001B[1;32m   5572\u001B[0m     \u001B[38;5;129;01mand\u001B[39;00m \u001B[38;5;28mself\u001B[39m\u001B[38;5;241m.\u001B[39m_info_axis\u001B[38;5;241m.\u001B[39m_can_hold_identifiers_and_holds_name(name)\n\u001B[1;32m   5573\u001B[0m ):\n\u001B[1;32m   5574\u001B[0m     \u001B[38;5;28;01mreturn\u001B[39;00m \u001B[38;5;28mself\u001B[39m[name]\n\u001B[0;32m-> 5575\u001B[0m \u001B[38;5;28;01mreturn\u001B[39;00m \u001B[38;5;28;43mobject\u001B[39;49m\u001B[38;5;241;43m.\u001B[39;49m\u001B[38;5;21;43m__getattribute__\u001B[39;49m\u001B[43m(\u001B[49m\u001B[38;5;28;43mself\u001B[39;49m\u001B[43m,\u001B[49m\u001B[43m \u001B[49m\u001B[43mname\u001B[49m\u001B[43m)\u001B[49m\n",
      "\u001B[0;31mAttributeError\u001B[0m: 'Series' object has no attribute 'df'"
     ]
    }
   ],
   "source": [
    "to_yaml(df)"
   ],
   "metadata": {
    "collapsed": false,
    "pycharm": {
     "name": "#%%\n"
    }
   }
  },
  {
   "cell_type": "code",
   "execution_count": null,
   "outputs": [],
   "source": [],
   "metadata": {
    "collapsed": false,
    "pycharm": {
     "name": "#%%\n"
    }
   }
  },
  {
   "cell_type": "code",
   "execution_count": 16,
   "outputs": [],
   "source": [
    "#!/Users/anpr/.pyenv/versions/pandacount-3.10.0/bin/python\n",
    "from typing import List, Callable\n",
    "\n",
    "import yaml\n",
    "import pandas as pd\n",
    "import typer\n",
    "from toolz import pipe\n",
    "\n",
    "\n",
    "from contextlib import contextmanager\n",
    "\n",
    "\n",
    "@contextmanager\n",
    "def skip_lines_until(file_name: str, predicate: Callable[[str], bool]):\n",
    "    \"\"\"Skips lines until the predicate is true.\n",
    "    Then yields the file _including_ the line where the predicate is true.\"\"\"\n",
    "    with open(file_name, mode=\"r\", encoding=\"iso-8859-1\") as f:\n",
    "        pos = f.tell()\n",
    "        while not predicate(f.readline()):\n",
    "            pos = f.tell()\n",
    "        # Go back to the bqeginning of the line\n",
    "        f.seek(pos)\n",
    "        yield f\n",
    "\n",
    "\n",
    "def to_raw_df(file_name: str) -> pd.DataFrame:\n",
    "    with skip_lines_until(\n",
    "            file_name, lambda line: line.startswith(\"Buchung;Valuta;Auftraggeber\")\n",
    "    ) as f:\n",
    "        raw_df = pd.read_csv(f, sep=\";\", encoding=\"iso-8859-1\")\n",
    "        raw_df.rename(\n",
    "            columns={\n",
    "                \"Währung.1\": \"currency1\",\n",
    "                \"Währung\": \"currency\",\n",
    "                \"Auftraggeber/Empfänger\": \"party\",\n",
    "                \"Buchungstext\": \"book_text\",\n",
    "                \"Verwendungszweck\": \"purpose\",\n",
    "            },\n",
    "            inplace=True,\n",
    "        )\n",
    "        raw_df[\"book_date\"] = pd.to_datetime(raw_df[\"Buchung\"], dayfirst=True)\n",
    "        raw_df[\"valuta_date\"] = pd.to_datetime(raw_df[\"Valuta\"], dayfirst=True)\n",
    "        raw_df[\"amount\"] = pd.to_numeric(\n",
    "            raw_df[\"Betrag\"].str.replace(\".\", \"\", regex=False).str.replace(\",\", \".\", regex=False)\n",
    "        )\n",
    "        raw_df[\"balance\"] = pd.to_numeric(\n",
    "            raw_df[\"Saldo\"].str.replace(\".\", \"\", regex=False).str.replace(\",\", \".\", regex=False)\n",
    "        )\n",
    "    raw_df = raw_df[[\"book_date\", \"valuta_date\", \"party\", \"book_text\", \"purpose\", \"amount\", \"balance\"]]\n",
    "    return raw_df\n",
    "\n",
    "\n",
    "def categorize(df: pd.DataFrame) -> pd.DataFrame:\n",
    "    category_attribute_subs_map = {\n",
    "        \"bargeld\": {\"party\": [\"bargeldauszahlung\"]},\n",
    "        \"einkaufen\": {\n",
    "            \"party\": [\n",
    "                \"bio company\",\n",
    "                \"biobackhaus\",\n",
    "                \"edeka\",\n",
    "                \"dm-drogerie\",\n",
    "                \"steinecke\",\n",
    "                \"nah und gut\",\n",
    "                \"visa ralf oelmann\",\n",
    "                \"combi verbrauchermarkt\",\n",
    "                \"tchibo\",\n",
    "                \"REWE MARKT\",\n",
    "                \"VISA REWE VIKTOR ADLER\",\n",
    "                \"VISA LPG BIOMARKT\",\n",
    "                \"VISA BILLA DANKT\",\n",
    "            ],\n",
    "            \"purpose\": [\n",
    "                \"KoRo Handels GmbH\",\n",
    "                \"KoRo Drogerie GmbH\",\n",
    "                \"BIO COMPANY GmbH\",\n",
    "                \"gewuerzland\",\n",
    "            ],\n",
    "        },\n",
    "        \"einnahmen\": {\"party\": [\"andreas edmond profous\"]},\n",
    "        \"einnahmen::dividende\": {\"purpose\": [\"dividende\"]},\n",
    "        \"geschenk\": {\n",
    "            \"party\": [\"VISA SPIELVOGEL\"],\n",
    "            \"purpose\": [\"superiore.de\", \"geschenk mama\", \"Marimekko\"],\n",
    "        },\n",
    "        \"gesundheit\": {\n",
    "            \"party\": [\n",
    "                \"ZAHNARZT DR. MUELLER\",\n",
    "                \"JOSEPHINEN APOTHEKE\",\n",
    "                \"PRAGER APOTHEKE\",\n",
    "                \"FORTUNA APOTHEKE\",\n",
    "            ],\n",
    "            \"purpose\": [\"Center-Apotheke im Minipreis\", \"SPEICKSHOP\", \"SHAVING.IE\"],\n",
    "        },\n",
    "        \"kleidung\": {\"party\": [\"VISA MAGAZZINO\"]},\n",
    "        \"kinder\": {\n",
    "            \"party\": [\n",
    "                \"Carolina Sgro\",\n",
    "                \"Musikschule City West\",\n",
    "                \"Erika Tribbioli\",\n",
    "                \"KINDER- UND JUGEND-, REIT- UND FAHRVEREIN ZEHLENDORF E.V.\",\n",
    "            ],\n",
    "            \"purpose\": [\"Zoologischer Garten Be\", \"Kinderschwimmen\"],\n",
    "        },\n",
    "        \"kinder::sparen\": {\"purpose\": [\"Sparen Depot Paula\"]},\n",
    "        \"kinder::schule\": {\"purpose\": [\"Kassenzeichen: 2134900496613 Paula Profous\"]},\n",
    "        \"media\": {\n",
    "            \"party\": [\"amznprime\", \"prime video\", \"abo lage der nation\", \"aws emea\", \"thalia.de\"],\n",
    "            \"purpose\": [\"Spotify AB\", \"audible.de\", \"netflix.com\"],\n",
    "        },\n",
    "        \"mobilitaet::auto\": {\n",
    "            \"party\": [\n",
    "                \"sprint station\",\n",
    "                \"visa shell\",\n",
    "                \"riller & schnauck\",\n",
    "                \"Bundeskasse in Kiel\",\n",
    "                \"VISA STOP + GO SYSTEMZENTRA\",\n",
    "                \"ARAL AG\",\n",
    "                \"Worldline Sweden AB fuer Shell\",\n",
    "                \"VISA ARAL STATION\",\n",
    "            ],\n",
    "            \"purpose\": [\"CosmosDirekt Kfz Beitrag\"],\n",
    "        },\n",
    "        \"mobilitaet::autoleihen\": {\"party\": [\"VISA ENTERPRISE RENT A CAR\", \"VISA RENTALCARS.COM\"]},\n",
    "        \"mobilitaet::fahrrad\": {\"party\": [\"bike market city\", \"FAHRRADLADEN MEHRINGHOF\"]},\n",
    "        \"mobilitaet::fliegen\": {\n",
    "            \"party\": [\"RYANAIR\"],\n",
    "            \"purpose\": [\n",
    "                \"ryanair limited\",\n",
    "                \"deutsche lufthansa\",\n",
    "                \"Koninklijke Luchtvaart Maatschappij\",\n",
    "            ],\n",
    "        },\n",
    "        \"mobilitaet::oeffentlich\": {\n",
    "            \"party\": [\"bvg app\", \"DB Fernverkehr AG\"],\n",
    "            \"purpose\": [\"DB Vertrieb GmbH\"],\n",
    "        },\n",
    "        \"intern\": {\"party\": [\"andreas profous\"]},\n",
    "        \"intern::rente\": {\"purpose\": [\"Wertpapierkauf\"], \"book_text\": [\"Wertpapierkauf\"]},\n",
    "        \"intern::steuerklasse\": {\"purpose\": [\"Ausgleich Steuerklasse\"]},\n",
    "        \"restaurant\": {\n",
    "            \"party\": [\n",
    "                \"cocolo ramen\",\n",
    "                \"HAPPINESSHEART\",\n",
    "                \"lieferando.de\",\n",
    "                \"VISA RESTAURANT LENZIG\",\n",
    "                \"VISA RESTAURANT KOINONIA\",\n",
    "                \"VISA RESTAURANT BEL MONDO\",\n",
    "                \"RESTAURANT PARACAS\",\n",
    "                \"VISA EATAROUND DELIVERY\",\n",
    "                \"VISA ZIMT UND ZUCKER\",\n",
    "                \"VISA SPC*RESTAURANT BAHADUR\",\n",
    "                \"VISA RESTAURANTE CALIBOCCA\",\n",
    "                \"VISA SY RESTAURANT\",\n",
    "            ]\n",
    "        },\n",
    "        \"spenden\": {\"party\": [\"Aerzte ohne Grenzen eV\"]},\n",
    "        \"sport\": {\"party\": [\"Katherine Finger\"]},\n",
    "        \"urlaub\": {\"purpose\": [\"Airbnb Payments\", \"airbnb\"]},\n",
    "        \"wohnen\": {\"purpose\": [\"Rate, Putzen, Naturstrom\", \"Ausgleich WEG\"]},\n",
    "    }\n",
    "\n",
    "    for category, subs_map in category_attribute_subs_map.items():\n",
    "        for attribute, subs in subs_map.items():\n",
    "            for sub in subs:\n",
    "                df.loc[\n",
    "                    df[attribute].fillna(\"\").str.lower().str.contains(sub.lower()), \"category\"\n",
    "                ] = category\n",
    "\n",
    "    df.loc[\n",
    "        df.party.fillna(\"\").str.lower().str.contains(\"VISA APPLE.COM/BILL\".lower())\n",
    "        & (df.amount > -50),\n",
    "        \"category\",\n",
    "    ] = \"media\"\n",
    "\n",
    "    return df\n",
    "\n",
    "\n",
    "def to_yaml(df: pd.DataFrame) -> str:\n",
    "    \"\"\"\n",
    "    Convert the dataframe to a yaml file.\n",
    "\n",
    "    Args:\n",
    "        df: The dataframe to convert.\n",
    "\n",
    "    Returns:\n",
    "        The dataframe as a yaml file.\n",
    "    \"\"\"\n",
    "    df[\"book_date\"] = df.book_date.dt.strftime(\"%Y-%m-%d\")\n",
    "    df[\"valuta_date\"] = df.valuta_date.dt.strftime(\"%Y-%m-%d\")\n",
    "    yml = yaml.dump(\n",
    "        df.reset_index().to_dict(orient=\"records\"),\n",
    "        sort_keys=False,\n",
    "        width=120,\n",
    "        indent=2,\n",
    "        default_flow_style=False,\n",
    "    )\n",
    "    return yml\n",
    "\n",
    "\n",
    "def from_yaml(yml: str) -> pd.DataFrame:\n",
    "    \"\"\"\n",
    "    Convert a yaml file to a dataframe.\n",
    "\n",
    "    Args:\n",
    "        yml: The yaml file to convert.\n",
    "\n",
    "    Returns:\n",
    "        The yaml file as a dataframe.\n",
    "    \"\"\"\n",
    "    df = pd.DataFrame(yaml.load(yml, yaml.Loader))\n",
    "    df[\"book_date\"] = pd.to_datetime(df[\"book_date\"])\n",
    "    df[\"valuta_date\"] = pd.to_datetime(df[\"valuta_date\"])\n",
    "    return df\n",
    "\n",
    "\n",
    "def from_yaml_file() -> pd.DataFrame:\n",
    "    with open(\"pandacount.yml\", \"r\") as f:\n",
    "        pc = from_yaml(f.read())\n",
    "    return pc\n",
    "\n",
    "\n",
    "def to_yaml_file(pc: pd.DataFrame):\n",
    "    yml = to_yaml(pc)\n",
    "    with open(\"pandacount.yml\", \"w\") as f:\n",
    "        f.write(yml)\n",
    "\n",
    "\n",
    "def import_to_pandacount(pc: pd.DataFrame, df: pd.DataFrame) -> pd.DataFrame:\n",
    "    return pc.merge(df, on=[\"book_date\", \"valuta_date\", \"party\", \"book_text\", \"purpose\", \"amount\"])\n",
    "\n",
    "\n",
    "def main(file_list: List[str]):\n",
    "    pc = from_yaml_file()\n",
    "    for file in file_list:\n",
    "        typer.echo(f\"Processing {file}\")\n",
    "        df = pipe(file, to_raw_df, categorize)\n",
    "        pc = import_to_pandacount(pc, df)\n",
    "\n",
    "    to_yaml_file(pc)\n",
    "    print(pc.head())"
   ],
   "metadata": {
    "collapsed": false,
    "pycharm": {
     "name": "#%%\n"
    }
   }
  },
  {
   "cell_type": "code",
   "execution_count": 17,
   "outputs": [],
   "source": [
    "pc = from_yaml_file()"
   ],
   "metadata": {
    "collapsed": false,
    "pycharm": {
     "name": "#%%\n"
    }
   }
  },
  {
   "cell_type": "code",
   "execution_count": 18,
   "outputs": [
    {
     "data": {
      "text/plain": "(173, 9)"
     },
     "execution_count": 18,
     "metadata": {},
     "output_type": "execute_result"
    }
   ],
   "source": [
    "pc.shape"
   ],
   "metadata": {
    "collapsed": false,
    "pycharm": {
     "name": "#%%\n"
    }
   }
  },
  {
   "cell_type": "code",
   "execution_count": 19,
   "outputs": [],
   "source": [
    "df = pipe(\"downloads/Umsatzanzeige_DE97500105175409854125_20220412.csv\", to_raw_df, categorize)"
   ],
   "metadata": {
    "collapsed": false,
    "pycharm": {
     "name": "#%%\n"
    }
   }
  },
  {
   "cell_type": "code",
   "execution_count": 20,
   "outputs": [
    {
     "data": {
      "text/plain": "(173, 8)"
     },
     "execution_count": 20,
     "metadata": {},
     "output_type": "execute_result"
    }
   ],
   "source": [
    "df.shape"
   ],
   "metadata": {
    "collapsed": false,
    "pycharm": {
     "name": "#%%\n"
    }
   }
  },
  {
   "cell_type": "code",
   "execution_count": 21,
   "outputs": [
    {
     "data": {
      "text/plain": "   book_date valuta_date                                          party  \\\n0 2022-04-12  2022-04-12  AMAZON EU S.A R.L., NIEDERLASSUNG DEUTSCHLAND   \n1 2022-04-12  2022-04-12  AMAZON EU S.A R.L., NIEDERLASSUNG DEUTSCHLAND   \n2 2022-04-12  2022-04-12  AMAZON EU S.A R.L., NIEDERLASSUNG DEUTSCHLAND   \n3 2022-04-12  2022-04-12  AMAZON EU S.A R.L., NIEDERLASSUNG DEUTSCHLAND   \n4 2022-04-12  2022-04-12  AMAZON EU S.A R.L., NIEDERLASSUNG DEUTSCHLAND   \n\n     book_text                                          purpose  amount  \\\n0  Lastschrift  304-5833107-6686730 Amazon.de 6PMP9 55UCADFB0VK    -6.5   \n1  Lastschrift  304-7367240-1654768 Amazon.de 75N6I 5E8570Z3QZG    -6.5   \n2  Lastschrift  304-7367240-1654768 Amazon.de 6O504 2GUSBFQ238Q   -11.8   \n3  Lastschrift  304-7367240-1654768 Amazon.de 4672P 80A6KWWRF53    -7.9   \n4  Lastschrift  304-7367240-1654768 Amazon.de 2YAW6 BI38UXWHIHX   -13.8   \n\n   balance category  \n0  1431.57      NaN  \n1  1438.07      NaN  \n2  1444.57      NaN  \n3  1456.37      NaN  \n4  1464.27      NaN  ",
      "text/html": "<div>\n<style scoped>\n    .dataframe tbody tr th:only-of-type {\n        vertical-align: middle;\n    }\n\n    .dataframe tbody tr th {\n        vertical-align: top;\n    }\n\n    .dataframe thead th {\n        text-align: right;\n    }\n</style>\n<table border=\"1\" class=\"dataframe\">\n  <thead>\n    <tr style=\"text-align: right;\">\n      <th></th>\n      <th>book_date</th>\n      <th>valuta_date</th>\n      <th>party</th>\n      <th>book_text</th>\n      <th>purpose</th>\n      <th>amount</th>\n      <th>balance</th>\n      <th>category</th>\n    </tr>\n  </thead>\n  <tbody>\n    <tr>\n      <th>0</th>\n      <td>2022-04-12</td>\n      <td>2022-04-12</td>\n      <td>AMAZON EU S.A R.L., NIEDERLASSUNG DEUTSCHLAND</td>\n      <td>Lastschrift</td>\n      <td>304-5833107-6686730 Amazon.de 6PMP9 55UCADFB0VK</td>\n      <td>-6.5</td>\n      <td>1431.57</td>\n      <td>NaN</td>\n    </tr>\n    <tr>\n      <th>1</th>\n      <td>2022-04-12</td>\n      <td>2022-04-12</td>\n      <td>AMAZON EU S.A R.L., NIEDERLASSUNG DEUTSCHLAND</td>\n      <td>Lastschrift</td>\n      <td>304-7367240-1654768 Amazon.de 75N6I 5E8570Z3QZG</td>\n      <td>-6.5</td>\n      <td>1438.07</td>\n      <td>NaN</td>\n    </tr>\n    <tr>\n      <th>2</th>\n      <td>2022-04-12</td>\n      <td>2022-04-12</td>\n      <td>AMAZON EU S.A R.L., NIEDERLASSUNG DEUTSCHLAND</td>\n      <td>Lastschrift</td>\n      <td>304-7367240-1654768 Amazon.de 6O504 2GUSBFQ238Q</td>\n      <td>-11.8</td>\n      <td>1444.57</td>\n      <td>NaN</td>\n    </tr>\n    <tr>\n      <th>3</th>\n      <td>2022-04-12</td>\n      <td>2022-04-12</td>\n      <td>AMAZON EU S.A R.L., NIEDERLASSUNG DEUTSCHLAND</td>\n      <td>Lastschrift</td>\n      <td>304-7367240-1654768 Amazon.de 4672P 80A6KWWRF53</td>\n      <td>-7.9</td>\n      <td>1456.37</td>\n      <td>NaN</td>\n    </tr>\n    <tr>\n      <th>4</th>\n      <td>2022-04-12</td>\n      <td>2022-04-12</td>\n      <td>AMAZON EU S.A R.L., NIEDERLASSUNG DEUTSCHLAND</td>\n      <td>Lastschrift</td>\n      <td>304-7367240-1654768 Amazon.de 2YAW6 BI38UXWHIHX</td>\n      <td>-13.8</td>\n      <td>1464.27</td>\n      <td>NaN</td>\n    </tr>\n  </tbody>\n</table>\n</div>"
     },
     "execution_count": 21,
     "metadata": {},
     "output_type": "execute_result"
    }
   ],
   "source": [
    "df.head()"
   ],
   "metadata": {
    "collapsed": false,
    "pycharm": {
     "name": "#%%\n"
    }
   }
  },
  {
   "cell_type": "code",
   "execution_count": 22,
   "outputs": [
    {
     "data": {
      "text/plain": "   index  book_date valuta_date  \\\n0      0 2022-04-12  2022-04-12   \n1      1 2022-04-12  2022-04-12   \n2      2 2022-04-12  2022-04-12   \n3      3 2022-04-12  2022-04-12   \n4      4 2022-04-12  2022-04-12   \n\n                                           party    book_text  \\\n0  AMAZON EU S.A R.L., NIEDERLASSUNG DEUTSCHLAND  Lastschrift   \n1  AMAZON EU S.A R.L., NIEDERLASSUNG DEUTSCHLAND  Lastschrift   \n2  AMAZON EU S.A R.L., NIEDERLASSUNG DEUTSCHLAND  Lastschrift   \n3  AMAZON EU S.A R.L., NIEDERLASSUNG DEUTSCHLAND  Lastschrift   \n4  AMAZON EU S.A R.L., NIEDERLASSUNG DEUTSCHLAND  Lastschrift   \n\n                                           purpose  amount  balance category  \n0  304-5833107-6686730 Amazon.de 6PMP9 55UCADFB0VK    -6.5  1431.57      NaN  \n1  304-7367240-1654768 Amazon.de 75N6I 5E8570Z3QZG    -6.5  1438.07      NaN  \n2  304-7367240-1654768 Amazon.de 6O504 2GUSBFQ238Q   -11.8  1444.57      NaN  \n3  304-7367240-1654768 Amazon.de 4672P 80A6KWWRF53    -7.9  1456.37      NaN  \n4  304-7367240-1654768 Amazon.de 2YAW6 BI38UXWHIHX   -13.8  1464.27      NaN  ",
      "text/html": "<div>\n<style scoped>\n    .dataframe tbody tr th:only-of-type {\n        vertical-align: middle;\n    }\n\n    .dataframe tbody tr th {\n        vertical-align: top;\n    }\n\n    .dataframe thead th {\n        text-align: right;\n    }\n</style>\n<table border=\"1\" class=\"dataframe\">\n  <thead>\n    <tr style=\"text-align: right;\">\n      <th></th>\n      <th>index</th>\n      <th>book_date</th>\n      <th>valuta_date</th>\n      <th>party</th>\n      <th>book_text</th>\n      <th>purpose</th>\n      <th>amount</th>\n      <th>balance</th>\n      <th>category</th>\n    </tr>\n  </thead>\n  <tbody>\n    <tr>\n      <th>0</th>\n      <td>0</td>\n      <td>2022-04-12</td>\n      <td>2022-04-12</td>\n      <td>AMAZON EU S.A R.L., NIEDERLASSUNG DEUTSCHLAND</td>\n      <td>Lastschrift</td>\n      <td>304-5833107-6686730 Amazon.de 6PMP9 55UCADFB0VK</td>\n      <td>-6.5</td>\n      <td>1431.57</td>\n      <td>NaN</td>\n    </tr>\n    <tr>\n      <th>1</th>\n      <td>1</td>\n      <td>2022-04-12</td>\n      <td>2022-04-12</td>\n      <td>AMAZON EU S.A R.L., NIEDERLASSUNG DEUTSCHLAND</td>\n      <td>Lastschrift</td>\n      <td>304-7367240-1654768 Amazon.de 75N6I 5E8570Z3QZG</td>\n      <td>-6.5</td>\n      <td>1438.07</td>\n      <td>NaN</td>\n    </tr>\n    <tr>\n      <th>2</th>\n      <td>2</td>\n      <td>2022-04-12</td>\n      <td>2022-04-12</td>\n      <td>AMAZON EU S.A R.L., NIEDERLASSUNG DEUTSCHLAND</td>\n      <td>Lastschrift</td>\n      <td>304-7367240-1654768 Amazon.de 6O504 2GUSBFQ238Q</td>\n      <td>-11.8</td>\n      <td>1444.57</td>\n      <td>NaN</td>\n    </tr>\n    <tr>\n      <th>3</th>\n      <td>3</td>\n      <td>2022-04-12</td>\n      <td>2022-04-12</td>\n      <td>AMAZON EU S.A R.L., NIEDERLASSUNG DEUTSCHLAND</td>\n      <td>Lastschrift</td>\n      <td>304-7367240-1654768 Amazon.de 4672P 80A6KWWRF53</td>\n      <td>-7.9</td>\n      <td>1456.37</td>\n      <td>NaN</td>\n    </tr>\n    <tr>\n      <th>4</th>\n      <td>4</td>\n      <td>2022-04-12</td>\n      <td>2022-04-12</td>\n      <td>AMAZON EU S.A R.L., NIEDERLASSUNG DEUTSCHLAND</td>\n      <td>Lastschrift</td>\n      <td>304-7367240-1654768 Amazon.de 2YAW6 BI38UXWHIHX</td>\n      <td>-13.8</td>\n      <td>1464.27</td>\n      <td>NaN</td>\n    </tr>\n  </tbody>\n</table>\n</div>"
     },
     "execution_count": 22,
     "metadata": {},
     "output_type": "execute_result"
    }
   ],
   "source": [
    "pc.head()"
   ],
   "metadata": {
    "collapsed": false,
    "pycharm": {
     "name": "#%%\n"
    }
   }
  },
  {
   "cell_type": "code",
   "execution_count": 25,
   "outputs": [
    {
     "data": {
      "text/plain": "     book_date valuta_date                                          party  \\\n0   2022-04-12  2022-04-12  AMAZON EU S.A R.L., NIEDERLASSUNG DEUTSCHLAND   \n1   2022-04-12  2022-04-12  AMAZON EU S.A R.L., NIEDERLASSUNG DEUTSCHLAND   \n2   2022-04-12  2022-04-12  AMAZON EU S.A R.L., NIEDERLASSUNG DEUTSCHLAND   \n3   2022-04-12  2022-04-12  AMAZON EU S.A R.L., NIEDERLASSUNG DEUTSCHLAND   \n4   2022-04-12  2022-04-12  AMAZON EU S.A R.L., NIEDERLASSUNG DEUTSCHLAND   \n..         ...         ...                                            ...   \n168 2021-04-30  2021-04-30                                Andreas Profous   \n169 2021-04-19  2021-04-19                                Erika Tribbioli   \n170 2021-04-15  2021-04-15                          NaturStromHandel GmbH   \n171 2021-04-13  2021-04-13       Bundesagentur fur Arbeit - Familienkasse   \n172 2021-04-12  2021-04-12                                 INES BORNEMANN   \n\n                       book_text  \\\n0                    Lastschrift   \n1                    Lastschrift   \n2                    Lastschrift   \n3                    Lastschrift   \n4                    Lastschrift   \n..                           ...   \n168  Gutschrift aus Dauerauftrag   \n169                  Überweisung   \n170                  Lastschrift   \n171                   Gutschrift   \n172                  Lastschrift   \n\n                                               purpose   amount  balance  \\\n0      304-5833107-6686730 Amazon.de 6PMP9 55UCADFB0VK    -6.50  1431.57   \n1      304-7367240-1654768 Amazon.de 75N6I 5E8570Z3QZG    -6.50  1438.07   \n2      304-7367240-1654768 Amazon.de 6O504 2GUSBFQ238Q   -11.80  1444.57   \n3      304-7367240-1654768 Amazon.de 4672P 80A6KWWRF53    -7.90  1456.37   \n4      304-7367240-1654768 Amazon.de 2YAW6 BI38UXWHIHX   -13.80  1464.27   \n..                                                 ...      ...      ...   \n168      Rate, Putzen, Naturstrom O2, HUK24, GEZ, Kita  1300.00  2541.40   \n169                          Teatro, Paula Profous, 2d   -32.00  1241.40   \n170  Rechnungsnummer DR-16081796 / Vertr agsnummer ...  -105.42  1273.40   \n171   KG039922FK356574 0421 48044238560/3 000106812943   438.00  1378.82   \n172  Rg.Nr.25434 Kd.Nr. 2091 Haushalthil fe Marz AS...  -257.61   940.82   \n\n    category  \n0        NaN  \n1        NaN  \n2        NaN  \n3        NaN  \n4        NaN  \n..       ...  \n168   wohnen  \n169   kinder  \n170      NaN  \n171      NaN  \n172      NaN  \n\n[173 rows x 8 columns]",
      "text/html": "<div>\n<style scoped>\n    .dataframe tbody tr th:only-of-type {\n        vertical-align: middle;\n    }\n\n    .dataframe tbody tr th {\n        vertical-align: top;\n    }\n\n    .dataframe thead th {\n        text-align: right;\n    }\n</style>\n<table border=\"1\" class=\"dataframe\">\n  <thead>\n    <tr style=\"text-align: right;\">\n      <th></th>\n      <th>book_date</th>\n      <th>valuta_date</th>\n      <th>party</th>\n      <th>book_text</th>\n      <th>purpose</th>\n      <th>amount</th>\n      <th>balance</th>\n      <th>category</th>\n    </tr>\n  </thead>\n  <tbody>\n    <tr>\n      <th>0</th>\n      <td>2022-04-12</td>\n      <td>2022-04-12</td>\n      <td>AMAZON EU S.A R.L., NIEDERLASSUNG DEUTSCHLAND</td>\n      <td>Lastschrift</td>\n      <td>304-5833107-6686730 Amazon.de 6PMP9 55UCADFB0VK</td>\n      <td>-6.50</td>\n      <td>1431.57</td>\n      <td>NaN</td>\n    </tr>\n    <tr>\n      <th>1</th>\n      <td>2022-04-12</td>\n      <td>2022-04-12</td>\n      <td>AMAZON EU S.A R.L., NIEDERLASSUNG DEUTSCHLAND</td>\n      <td>Lastschrift</td>\n      <td>304-7367240-1654768 Amazon.de 75N6I 5E8570Z3QZG</td>\n      <td>-6.50</td>\n      <td>1438.07</td>\n      <td>NaN</td>\n    </tr>\n    <tr>\n      <th>2</th>\n      <td>2022-04-12</td>\n      <td>2022-04-12</td>\n      <td>AMAZON EU S.A R.L., NIEDERLASSUNG DEUTSCHLAND</td>\n      <td>Lastschrift</td>\n      <td>304-7367240-1654768 Amazon.de 6O504 2GUSBFQ238Q</td>\n      <td>-11.80</td>\n      <td>1444.57</td>\n      <td>NaN</td>\n    </tr>\n    <tr>\n      <th>3</th>\n      <td>2022-04-12</td>\n      <td>2022-04-12</td>\n      <td>AMAZON EU S.A R.L., NIEDERLASSUNG DEUTSCHLAND</td>\n      <td>Lastschrift</td>\n      <td>304-7367240-1654768 Amazon.de 4672P 80A6KWWRF53</td>\n      <td>-7.90</td>\n      <td>1456.37</td>\n      <td>NaN</td>\n    </tr>\n    <tr>\n      <th>4</th>\n      <td>2022-04-12</td>\n      <td>2022-04-12</td>\n      <td>AMAZON EU S.A R.L., NIEDERLASSUNG DEUTSCHLAND</td>\n      <td>Lastschrift</td>\n      <td>304-7367240-1654768 Amazon.de 2YAW6 BI38UXWHIHX</td>\n      <td>-13.80</td>\n      <td>1464.27</td>\n      <td>NaN</td>\n    </tr>\n    <tr>\n      <th>...</th>\n      <td>...</td>\n      <td>...</td>\n      <td>...</td>\n      <td>...</td>\n      <td>...</td>\n      <td>...</td>\n      <td>...</td>\n      <td>...</td>\n    </tr>\n    <tr>\n      <th>168</th>\n      <td>2021-04-30</td>\n      <td>2021-04-30</td>\n      <td>Andreas Profous</td>\n      <td>Gutschrift aus Dauerauftrag</td>\n      <td>Rate, Putzen, Naturstrom O2, HUK24, GEZ, Kita</td>\n      <td>1300.00</td>\n      <td>2541.40</td>\n      <td>wohnen</td>\n    </tr>\n    <tr>\n      <th>169</th>\n      <td>2021-04-19</td>\n      <td>2021-04-19</td>\n      <td>Erika Tribbioli</td>\n      <td>Überweisung</td>\n      <td>Teatro, Paula Profous, 2d</td>\n      <td>-32.00</td>\n      <td>1241.40</td>\n      <td>kinder</td>\n    </tr>\n    <tr>\n      <th>170</th>\n      <td>2021-04-15</td>\n      <td>2021-04-15</td>\n      <td>NaturStromHandel GmbH</td>\n      <td>Lastschrift</td>\n      <td>Rechnungsnummer DR-16081796 / Vertr agsnummer ...</td>\n      <td>-105.42</td>\n      <td>1273.40</td>\n      <td>NaN</td>\n    </tr>\n    <tr>\n      <th>171</th>\n      <td>2021-04-13</td>\n      <td>2021-04-13</td>\n      <td>Bundesagentur fur Arbeit - Familienkasse</td>\n      <td>Gutschrift</td>\n      <td>KG039922FK356574 0421 48044238560/3 000106812943</td>\n      <td>438.00</td>\n      <td>1378.82</td>\n      <td>NaN</td>\n    </tr>\n    <tr>\n      <th>172</th>\n      <td>2021-04-12</td>\n      <td>2021-04-12</td>\n      <td>INES BORNEMANN</td>\n      <td>Lastschrift</td>\n      <td>Rg.Nr.25434 Kd.Nr. 2091 Haushalthil fe Marz AS...</td>\n      <td>-257.61</td>\n      <td>940.82</td>\n      <td>NaN</td>\n    </tr>\n  </tbody>\n</table>\n<p>173 rows × 8 columns</p>\n</div>"
     },
     "execution_count": 25,
     "metadata": {},
     "output_type": "execute_result"
    }
   ],
   "source": [
    "pc.drop(labels=[\"index\"], axis=1, inplace=True)\n",
    "pc"
   ],
   "metadata": {
    "collapsed": false,
    "pycharm": {
     "name": "#%%\n"
    }
   }
  },
  {
   "cell_type": "code",
   "execution_count": 26,
   "outputs": [
    {
     "data": {
      "text/plain": "     book_date  valuta_date  party  book_text  purpose  amount  balance  \\\n0         True         True   True       True     True    True     True   \n1         True         True   True       True     True    True     True   \n2         True         True   True       True     True    True     True   \n3         True         True   True       True     True    True     True   \n4         True         True   True       True     True    True     True   \n..         ...          ...    ...        ...      ...     ...      ...   \n168       True         True   True       True     True    True     True   \n169       True         True   True       True     True    True     True   \n170       True         True   True       True     True    True     True   \n171       True         True   True       True     True    True     True   \n172       True         True   True       True     True    True     True   \n\n     category  \n0       False  \n1       False  \n2       False  \n3       False  \n4       False  \n..        ...  \n168      True  \n169      True  \n170     False  \n171     False  \n172     False  \n\n[173 rows x 8 columns]",
      "text/html": "<div>\n<style scoped>\n    .dataframe tbody tr th:only-of-type {\n        vertical-align: middle;\n    }\n\n    .dataframe tbody tr th {\n        vertical-align: top;\n    }\n\n    .dataframe thead th {\n        text-align: right;\n    }\n</style>\n<table border=\"1\" class=\"dataframe\">\n  <thead>\n    <tr style=\"text-align: right;\">\n      <th></th>\n      <th>book_date</th>\n      <th>valuta_date</th>\n      <th>party</th>\n      <th>book_text</th>\n      <th>purpose</th>\n      <th>amount</th>\n      <th>balance</th>\n      <th>category</th>\n    </tr>\n  </thead>\n  <tbody>\n    <tr>\n      <th>0</th>\n      <td>True</td>\n      <td>True</td>\n      <td>True</td>\n      <td>True</td>\n      <td>True</td>\n      <td>True</td>\n      <td>True</td>\n      <td>False</td>\n    </tr>\n    <tr>\n      <th>1</th>\n      <td>True</td>\n      <td>True</td>\n      <td>True</td>\n      <td>True</td>\n      <td>True</td>\n      <td>True</td>\n      <td>True</td>\n      <td>False</td>\n    </tr>\n    <tr>\n      <th>2</th>\n      <td>True</td>\n      <td>True</td>\n      <td>True</td>\n      <td>True</td>\n      <td>True</td>\n      <td>True</td>\n      <td>True</td>\n      <td>False</td>\n    </tr>\n    <tr>\n      <th>3</th>\n      <td>True</td>\n      <td>True</td>\n      <td>True</td>\n      <td>True</td>\n      <td>True</td>\n      <td>True</td>\n      <td>True</td>\n      <td>False</td>\n    </tr>\n    <tr>\n      <th>4</th>\n      <td>True</td>\n      <td>True</td>\n      <td>True</td>\n      <td>True</td>\n      <td>True</td>\n      <td>True</td>\n      <td>True</td>\n      <td>False</td>\n    </tr>\n    <tr>\n      <th>...</th>\n      <td>...</td>\n      <td>...</td>\n      <td>...</td>\n      <td>...</td>\n      <td>...</td>\n      <td>...</td>\n      <td>...</td>\n      <td>...</td>\n    </tr>\n    <tr>\n      <th>168</th>\n      <td>True</td>\n      <td>True</td>\n      <td>True</td>\n      <td>True</td>\n      <td>True</td>\n      <td>True</td>\n      <td>True</td>\n      <td>True</td>\n    </tr>\n    <tr>\n      <th>169</th>\n      <td>True</td>\n      <td>True</td>\n      <td>True</td>\n      <td>True</td>\n      <td>True</td>\n      <td>True</td>\n      <td>True</td>\n      <td>True</td>\n    </tr>\n    <tr>\n      <th>170</th>\n      <td>True</td>\n      <td>True</td>\n      <td>True</td>\n      <td>True</td>\n      <td>True</td>\n      <td>True</td>\n      <td>True</td>\n      <td>False</td>\n    </tr>\n    <tr>\n      <th>171</th>\n      <td>True</td>\n      <td>True</td>\n      <td>True</td>\n      <td>True</td>\n      <td>True</td>\n      <td>True</td>\n      <td>True</td>\n      <td>False</td>\n    </tr>\n    <tr>\n      <th>172</th>\n      <td>True</td>\n      <td>True</td>\n      <td>True</td>\n      <td>True</td>\n      <td>True</td>\n      <td>True</td>\n      <td>True</td>\n      <td>False</td>\n    </tr>\n  </tbody>\n</table>\n<p>173 rows × 8 columns</p>\n</div>"
     },
     "execution_count": 26,
     "metadata": {},
     "output_type": "execute_result"
    }
   ],
   "source": [
    "pc == df"
   ],
   "metadata": {
    "collapsed": false,
    "pycharm": {
     "name": "#%%\n"
    }
   }
  },
  {
   "cell_type": "markdown",
   "source": [],
   "metadata": {
    "collapsed": false
   }
  },
  {
   "cell_type": "code",
   "execution_count": 37,
   "outputs": [
    {
     "data": {
      "text/plain": "     book_date valuta_date                                          party  \\\n0   2022-04-12  2022-04-12  AMAZON EU S.A R.L., NIEDERLASSUNG DEUTSCHLAND   \n1   2022-04-12  2022-04-12  AMAZON EU S.A R.L., NIEDERLASSUNG DEUTSCHLAND   \n2   2022-04-12  2022-04-12  AMAZON EU S.A R.L., NIEDERLASSUNG DEUTSCHLAND   \n3   2022-04-12  2022-04-12  AMAZON EU S.A R.L., NIEDERLASSUNG DEUTSCHLAND   \n4   2022-04-12  2022-04-12  AMAZON EU S.A R.L., NIEDERLASSUNG DEUTSCHLAND   \n..         ...         ...                                            ...   \n168 2021-04-30  2021-04-30                                Andreas Profous   \n169 2021-04-19  2021-04-19                                Erika Tribbioli   \n170 2021-04-15  2021-04-15                          NaturStromHandel GmbH   \n171 2021-04-13  2021-04-13       Bundesagentur fur Arbeit - Familienkasse   \n172 2021-04-12  2021-04-12                                 INES BORNEMANN   \n\n                       book_text  \\\n0                    Lastschrift   \n1                    Lastschrift   \n2                    Lastschrift   \n3                    Lastschrift   \n4                    Lastschrift   \n..                           ...   \n168  Gutschrift aus Dauerauftrag   \n169                  Überweisung   \n170                  Lastschrift   \n171                   Gutschrift   \n172                  Lastschrift   \n\n                                               purpose   amount  balance  \\\n0      304-5833107-6686730 Amazon.de 6PMP9 55UCADFB0VK    -6.50  1431.57   \n1      304-7367240-1654768 Amazon.de 75N6I 5E8570Z3QZG    -6.50  1438.07   \n2      304-7367240-1654768 Amazon.de 6O504 2GUSBFQ238Q   -11.80  1444.57   \n3      304-7367240-1654768 Amazon.de 4672P 80A6KWWRF53    -7.90  1456.37   \n4      304-7367240-1654768 Amazon.de 2YAW6 BI38UXWHIHX   -13.80  1464.27   \n..                                                 ...      ...      ...   \n168      Rate, Putzen, Naturstrom O2, HUK24, GEZ, Kita  1300.00  2541.40   \n169                          Teatro, Paula Profous, 2d   -32.00  1241.40   \n170  Rechnungsnummer DR-16081796 / Vertr agsnummer ...  -105.42  1273.40   \n171   KG039922FK356574 0421 48044238560/3 000106812943   438.00  1378.82   \n172  Rg.Nr.25434 Kd.Nr. 2091 Haushalthil fe Marz AS...  -257.61   940.82   \n\n    category  \n0        NaN  \n1        NaN  \n2        NaN  \n3        NaN  \n4        NaN  \n..       ...  \n168   wohnen  \n169   kinder  \n170      NaN  \n171      NaN  \n172      NaN  \n\n[173 rows x 8 columns]",
      "text/html": "<div>\n<style scoped>\n    .dataframe tbody tr th:only-of-type {\n        vertical-align: middle;\n    }\n\n    .dataframe tbody tr th {\n        vertical-align: top;\n    }\n\n    .dataframe thead th {\n        text-align: right;\n    }\n</style>\n<table border=\"1\" class=\"dataframe\">\n  <thead>\n    <tr style=\"text-align: right;\">\n      <th></th>\n      <th>book_date</th>\n      <th>valuta_date</th>\n      <th>party</th>\n      <th>book_text</th>\n      <th>purpose</th>\n      <th>amount</th>\n      <th>balance</th>\n      <th>category</th>\n    </tr>\n  </thead>\n  <tbody>\n    <tr>\n      <th>0</th>\n      <td>2022-04-12</td>\n      <td>2022-04-12</td>\n      <td>AMAZON EU S.A R.L., NIEDERLASSUNG DEUTSCHLAND</td>\n      <td>Lastschrift</td>\n      <td>304-5833107-6686730 Amazon.de 6PMP9 55UCADFB0VK</td>\n      <td>-6.50</td>\n      <td>1431.57</td>\n      <td>NaN</td>\n    </tr>\n    <tr>\n      <th>1</th>\n      <td>2022-04-12</td>\n      <td>2022-04-12</td>\n      <td>AMAZON EU S.A R.L., NIEDERLASSUNG DEUTSCHLAND</td>\n      <td>Lastschrift</td>\n      <td>304-7367240-1654768 Amazon.de 75N6I 5E8570Z3QZG</td>\n      <td>-6.50</td>\n      <td>1438.07</td>\n      <td>NaN</td>\n    </tr>\n    <tr>\n      <th>2</th>\n      <td>2022-04-12</td>\n      <td>2022-04-12</td>\n      <td>AMAZON EU S.A R.L., NIEDERLASSUNG DEUTSCHLAND</td>\n      <td>Lastschrift</td>\n      <td>304-7367240-1654768 Amazon.de 6O504 2GUSBFQ238Q</td>\n      <td>-11.80</td>\n      <td>1444.57</td>\n      <td>NaN</td>\n    </tr>\n    <tr>\n      <th>3</th>\n      <td>2022-04-12</td>\n      <td>2022-04-12</td>\n      <td>AMAZON EU S.A R.L., NIEDERLASSUNG DEUTSCHLAND</td>\n      <td>Lastschrift</td>\n      <td>304-7367240-1654768 Amazon.de 4672P 80A6KWWRF53</td>\n      <td>-7.90</td>\n      <td>1456.37</td>\n      <td>NaN</td>\n    </tr>\n    <tr>\n      <th>4</th>\n      <td>2022-04-12</td>\n      <td>2022-04-12</td>\n      <td>AMAZON EU S.A R.L., NIEDERLASSUNG DEUTSCHLAND</td>\n      <td>Lastschrift</td>\n      <td>304-7367240-1654768 Amazon.de 2YAW6 BI38UXWHIHX</td>\n      <td>-13.80</td>\n      <td>1464.27</td>\n      <td>NaN</td>\n    </tr>\n    <tr>\n      <th>...</th>\n      <td>...</td>\n      <td>...</td>\n      <td>...</td>\n      <td>...</td>\n      <td>...</td>\n      <td>...</td>\n      <td>...</td>\n      <td>...</td>\n    </tr>\n    <tr>\n      <th>168</th>\n      <td>2021-04-30</td>\n      <td>2021-04-30</td>\n      <td>Andreas Profous</td>\n      <td>Gutschrift aus Dauerauftrag</td>\n      <td>Rate, Putzen, Naturstrom O2, HUK24, GEZ, Kita</td>\n      <td>1300.00</td>\n      <td>2541.40</td>\n      <td>wohnen</td>\n    </tr>\n    <tr>\n      <th>169</th>\n      <td>2021-04-19</td>\n      <td>2021-04-19</td>\n      <td>Erika Tribbioli</td>\n      <td>Überweisung</td>\n      <td>Teatro, Paula Profous, 2d</td>\n      <td>-32.00</td>\n      <td>1241.40</td>\n      <td>kinder</td>\n    </tr>\n    <tr>\n      <th>170</th>\n      <td>2021-04-15</td>\n      <td>2021-04-15</td>\n      <td>NaturStromHandel GmbH</td>\n      <td>Lastschrift</td>\n      <td>Rechnungsnummer DR-16081796 / Vertr agsnummer ...</td>\n      <td>-105.42</td>\n      <td>1273.40</td>\n      <td>NaN</td>\n    </tr>\n    <tr>\n      <th>171</th>\n      <td>2021-04-13</td>\n      <td>2021-04-13</td>\n      <td>Bundesagentur fur Arbeit - Familienkasse</td>\n      <td>Gutschrift</td>\n      <td>KG039922FK356574 0421 48044238560/3 000106812943</td>\n      <td>438.00</td>\n      <td>1378.82</td>\n      <td>NaN</td>\n    </tr>\n    <tr>\n      <th>172</th>\n      <td>2021-04-12</td>\n      <td>2021-04-12</td>\n      <td>INES BORNEMANN</td>\n      <td>Lastschrift</td>\n      <td>Rg.Nr.25434 Kd.Nr. 2091 Haushalthil fe Marz AS...</td>\n      <td>-257.61</td>\n      <td>940.82</td>\n      <td>NaN</td>\n    </tr>\n  </tbody>\n</table>\n<p>173 rows × 8 columns</p>\n</div>"
     },
     "execution_count": 37,
     "metadata": {},
     "output_type": "execute_result"
    }
   ],
   "source": [
    "pc = pc.merge(df, on=[\"book_date\", \"valuta_date\", \"party\", \"book_text\", \"purpose\", \"amount\"], suffixes=(\"\", \"_y\"))\n",
    "pc.drop(axis=1, labels=[\"balance_y\", \"category_y\"], inplace=True)\n",
    "pc"
   ],
   "metadata": {
    "collapsed": false,
    "pycharm": {
     "name": "#%%\n"
    }
   }
  },
  {
   "cell_type": "code",
   "execution_count": null,
   "outputs": [],
   "source": [],
   "metadata": {
    "collapsed": false,
    "pycharm": {
     "name": "#%%\n"
    }
   }
  }
 ],
 "metadata": {
  "kernelspec": {
   "display_name": "Python 3",
   "language": "python",
   "name": "python3"
  },
  "language_info": {
   "codemirror_mode": {
    "name": "ipython",
    "version": 2
   },
   "file_extension": ".py",
   "mimetype": "text/x-python",
   "name": "python",
   "nbconvert_exporter": "python",
   "pygments_lexer": "ipython2",
   "version": "2.7.6"
  }
 },
 "nbformat": 4,
 "nbformat_minor": 0
}