{
 "cells": [
  {
   "cell_type": "code",
   "source": [
    "## Initiales Importieren. Bevor das getan wird: `./panda.py categorize` ausführen!\n",
    "import datetime\n",
    "import pandas as pd\n",
    "from panda import load_pc, add_cat\n",
    "pc = load_pc()\n",
    "pc = add_cat(pc)\n",
    "pc.columns"
   ],
   "metadata": {
    "collapsed": false
   },
   "outputs": [],
   "execution_count": null
  },
  {
   "metadata": {},
   "cell_type": "code",
   "source": [
    "## Finden von nicht-kategorisierten Abbuchungen auf den Konten 'giro', 'gesa' und 'common' im Jahr 2024\n",
    "\n",
    "# Kopie des DataFrames erstellen\n",
    "df = pc.loc[(pc.book_date.dt.year == 2024) & (pc.transfer_category.isna())]\n",
    "df = df.copy()\n",
    "\n",
    "# 'amount_type' setzen basierend auf dem Betrag\n",
    "df.loc[df['amount'] > 0, 'amount_type'] = 'Gutschrift'\n",
    "df.loc[df['amount'] <= 0, 'amount_type'] = 'Abbuchung'\n",
    "\n",
    "# Relevante Spalten auswählen\n",
    "cols = ['account', 'book_date', 'party', 'purpose', 'amount', 'cat']\n",
    "\n",
    "# Filter für Abbuchungen und die Konten 'giro' und 'common'\n",
    "df = df.loc[\n",
    "    (df['amount_type'] == 'Abbuchung') & (df['account'].isin(['giro', 'gesa', 'common']))\n",
    "    ][cols].sort_values(by='amount', ascending=True)\n",
    "\n",
    "# Nur Einträge ohne Kategorie anzeigen\n",
    "filtered_df = df.loc[df['cat'].isna()]\n",
    "print(filtered_df['amount'].sum())\n",
    "filtered_df"
   ],
   "outputs": [],
   "execution_count": null
  },
  {
   "metadata": {},
   "cell_type": "code",
   "source": [
    "## Innerhalb der nicht-kategorisierten Abbuchungen, kumulative Summe der Top-X Beträge berechnen und plotten\n",
    "import matplotlib.pyplot as plt\n",
    "\n",
    "# Calculate the cumulative sum of the amounts\n",
    "filtered_df = filtered_df.sort_values(by='amount', ascending=True)\n",
    "filtered_df['cumulative_sum'] = filtered_df['amount'].cumsum()\n",
    "\n",
    "# Plot the cumulative sum\n",
    "plt.figure(figsize=(20, 12))\n",
    "plt.plot(range(1, len(filtered_df) + 1), filtered_df['cumulative_sum'])\n",
    "plt.xlabel('Number of Items')\n",
    "plt.ylabel('Cumulative Sum of Amount')\n",
    "plt.title('Cumulative Sum of Top-x Uncategorized Expenses')\n",
    "plt.grid(True)\n",
    "plt.show()"
   ],
   "outputs": [],
   "execution_count": null
  },
  {
   "metadata": {},
   "cell_type": "code",
   "source": [
    "## Gesamteinnahmen 2024\n",
    "income_df = pc.loc[\n",
    "    (pc.book_date.dt.year == 2024) &\n",
    "    (pc['cat'].isin(['einnahmen::gehalt::andreas', 'einnahmen::gehalt::gesa', 'einnahmen::dividende']))\n",
    "    ]\n",
    "income_df"
   ],
   "outputs": [],
   "execution_count": null
  },
  {
   "metadata": {},
   "cell_type": "code",
   "source": [
    "## Einkommensuebersicht 2024\n",
    "def generate_income_overview(income_df: pd.DataFrame) -> pd.DataFrame:\n",
    "    # Sum by category\n",
    "    category_sum = income_df.groupby('cat')['amount'].sum()\n",
    "\n",
    "    # Overall sum\n",
    "    overall_sum = income_df['amount'].sum()\n",
    "\n",
    "    # Combine results into a DataFrame\n",
    "    overview_df = category_sum.reset_index().rename(columns={'amount': 'category_sum'})\n",
    "    overview_df.loc[len(overview_df)] = ['Overall Sum', overall_sum]\n",
    "\n",
    "    return overview_df\n",
    "# Generate the overview\n",
    "income_overview_df = generate_income_overview(income_df)\n",
    "income_overview_df"
   ],
   "outputs": [],
   "execution_count": null
  },
  {
   "metadata": {},
   "cell_type": "code",
   "source": [
    "## Filter für alle Ausgaben im Jahr 2024\n",
    "expenses_df = pc.loc[\n",
    "    (pc.book_date.dt.year == 2024) &  # Nur Buchungen aus dem Jahr 2024\n",
    "    (~pc['cat'].str.startswith('intern', na=False)) &  # \"intern\"-Kategorie ausschließen\n",
    "    (~pc['cat'].str.startswith('einnahmen', na=False)) &  # \"einnahmen\"-Kategorie ausschließen\n",
    "    (pc['transfer_category'].isna()) &  # transfer_category muss NaN sein\n",
    "    (pc['account'].isin(['giro', 'common', 'gesa']))  # Nur bestimmte Konten berücksichtigen\n",
    "    ]\n",
    "\n",
    "print(expenses_df['amount'].sum())\n",
    "expenses_df"
   ],
   "outputs": [],
   "execution_count": null
  },
  {
   "metadata": {},
   "cell_type": "code",
   "source": [
    "## Ausgaben nach Kategorie, Betragstyp und Konto gruppieren\n",
    "def generate_expense_overview(expenses_df: pd.DataFrame) -> pd.DataFrame:\n",
    "    # Replace NaN in 'cat' with 'Uncategorized'\n",
    "    expenses_df['cat'] = expenses_df['cat'].fillna('Uncategorized')\n",
    "\n",
    "    # Sum by category and account\n",
    "    category_account_sum = expenses_df.groupby(['cat', 'account'])['amount'].sum().unstack(fill_value=0)\n",
    "\n",
    "    # Sum by category across all accounts\n",
    "    category_sum = expenses_df.groupby('cat')['amount'].sum()\n",
    "\n",
    "    # Overall sum across all accounts\n",
    "    overall_sum = expenses_df['amount'].sum()\n",
    "\n",
    "    # Combine results into a DataFrame\n",
    "    overview_df = category_sum.reset_index().rename(columns={'amount': 'category_sum'})\n",
    "    overview_df['giro'] = overview_df['cat'].map(category_account_sum.get('giro', {}))\n",
    "    overview_df['gesa'] = overview_df['cat'].map(category_account_sum.get('gesa', {}))\n",
    "    overview_df['common'] = overview_df['cat'].map(category_account_sum.get('common', {}))\n",
    "\n",
    "    # Add overall sum as a final row\n",
    "    overall_row = pd.DataFrame([{\n",
    "        'cat': 'Overall Sum',\n",
    "        'category_sum': overall_sum,\n",
    "        'giro': category_account_sum.loc[:, 'giro'].sum() if 'giro' in category_account_sum else 0,\n",
    "        'gesa': category_account_sum.loc[:, 'gesa'].sum() if 'gesa' in category_account_sum else 0,\n",
    "        'common': category_account_sum.loc[:, 'common'].sum() if 'common' in category_account_sum else 0,\n",
    "    }])\n",
    "\n",
    "    overview_df = pd.concat([overview_df, overall_row], ignore_index=True)\n",
    "\n",
    "    return overview_df\n",
    "\n",
    "# Generate the overview\n",
    "expense_overview_df = generate_expense_overview(expenses_df)\n",
    "expense_overview_df"
   ],
   "outputs": [],
   "execution_count": null
  },
  {
   "metadata": {},
   "cell_type": "code",
   "outputs": [],
   "execution_count": null,
   "source": "pc[(pc.account == \"giro\") & (pc.amount > 0) & (pc.book_date.dt.year == 2024)]"
  },
  {
   "metadata": {},
   "cell_type": "code",
   "outputs": [],
   "execution_count": null,
   "source": [
    "## Anwaltskosten\n",
    "df['book_date'].min()\n",
    "df = pc\n",
    "filtered_df = df[\n",
    "    df['party'].str.contains('KNH|zirngibl', case=False, na=False) |\n",
    "    df['purpose'].str.contains('KNH|zirngibl', case=False, na=False)\n",
    "    ]\n",
    "filtered_df"
   ]
  },
  {
   "metadata": {},
   "cell_type": "code",
   "outputs": [],
   "execution_count": null,
   "source": [
    "## Anwaltskosten #2\n",
    "filtered_df = df[\n",
    "    df['cat'].str.startswith('anwalt', na=False) |\n",
    "    df['purpose'].str.contains('luig', case=False, na=False) |\n",
    "    df['party'].str.contains('liu', case=False, na=False)\n",
    "    ]\n",
    "filtered_df"
   ]
  },
  {
   "cell_type": "code",
   "source": [
    "# Alle wohnen::putzen Ausgaben fr das Jahr 2023\n",
    "df = pc[(pc.account == 'common') & (pc.book_date > datetime.datetime(2023, 2, 1, 0,0,0)) & (pc.book_date < datetime.datetime(2024, 2, 1, 0,0,0))]\n",
    "filtered_df = df[df['cat'] == 'wohnen::putzen']\n",
    "filtered_df"
   ],
   "metadata": {
    "collapsed": false,
    "is_executing": true
   },
   "outputs": [],
   "execution_count": null
  }
 ],
 "metadata": {
  "kernelspec": {
   "display_name": "Python 3",
   "language": "python",
   "name": "python3"
  },
  "language_info": {
   "codemirror_mode": {
    "name": "ipython",
    "version": 2
   },
   "file_extension": ".py",
   "mimetype": "text/x-python",
   "name": "python",
   "nbconvert_exporter": "python",
   "pygments_lexer": "ipython2",
   "version": "2.7.6"
  }
 },
 "nbformat": 4,
 "nbformat_minor": 0
}
