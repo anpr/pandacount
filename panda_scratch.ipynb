{
 "cells": [
  {
   "cell_type": "code",
   "source": [
    "## Initiales Importieren. Bevor das getan wird: `./panda.py categorize` ausführen!\n",
    "import datetime\n",
    "import pandas as pd\n",
    "from panda import load_pc, add_cat\n",
    "pc = load_pc()\n",
    "pc = add_cat(pc)\n",
    "pc.columns"
   ],
   "metadata": {
    "collapsed": false,
    "ExecuteTime": {
     "end_time": "2025-07-06T19:25:30.760031Z",
     "start_time": "2025-07-06T19:25:26.723924Z"
    }
   },
   "outputs": [
    {
     "data": {
      "text/plain": [
       "Index(['account', 'book_date', 'valuta_date', 'party', 'book_text', 'purpose',\n",
       "       'amount', 'balance', 'transfer_category', 'cat'],\n",
       "      dtype='object')"
      ]
     },
     "execution_count": 1,
     "metadata": {},
     "output_type": "execute_result"
    }
   ],
   "execution_count": 1
  },
  {
   "metadata": {},
   "cell_type": "code",
   "source": [
    "## Finden von nicht-kategorisierten Abbuchungen auf den Konten 'giro', 'gesa' und 'common' im Jahr 2024\n",
    "\n",
    "# Kopie des DataFrames erstellen\n",
    "df = pc.loc[(pc.book_date.dt.year == 2024) & (pc.transfer_category.isna())]\n",
    "df = df.copy()\n",
    "\n",
    "# 'amount_type' setzen basierend auf dem Betrag\n",
    "df.loc[df['amount'] > 0, 'amount_type'] = 'Gutschrift'\n",
    "df.loc[df['amount'] <= 0, 'amount_type'] = 'Abbuchung'\n",
    "\n",
    "# Relevante Spalten auswählen\n",
    "cols = ['account', 'book_date', 'party', 'purpose', 'amount', 'cat']\n",
    "\n",
    "# Filter für Abbuchungen und die Konten 'giro' und 'common'\n",
    "df = df.loc[\n",
    "    (df['amount_type'] == 'Abbuchung') & (df['account'].isin(['giro', 'gesa', 'common']))\n",
    "    ][cols].sort_values(by='amount', ascending=True)\n",
    "\n",
    "# Nur Einträge ohne Kategorie anzeigen\n",
    "filtered_df = df.loc[df['cat'].isna()]\n",
    "print(filtered_df['amount'].sum())\n",
    "filtered_df"
   ],
   "outputs": [],
   "execution_count": null
  },
  {
   "metadata": {},
   "cell_type": "code",
   "source": [
    "## Innerhalb der nicht-kategorisierten Abbuchungen, kumulative Summe der Top-X Beträge berechnen und plotten\n",
    "import matplotlib.pyplot as plt\n",
    "\n",
    "# Calculate the cumulative sum of the amounts\n",
    "filtered_df = filtered_df.sort_values(by='amount', ascending=True)\n",
    "filtered_df['cumulative_sum'] = filtered_df['amount'].cumsum()\n",
    "\n",
    "# Plot the cumulative sum\n",
    "plt.figure(figsize=(20, 12))\n",
    "plt.plot(range(1, len(filtered_df) + 1), filtered_df['cumulative_sum'])\n",
    "plt.xlabel('Number of Items')\n",
    "plt.ylabel('Cumulative Sum of Amount')\n",
    "plt.title('Cumulative Sum of Top-x Uncategorized Expenses')\n",
    "plt.grid(True)\n",
    "plt.show()"
   ],
   "outputs": [],
   "execution_count": null
  },
  {
   "metadata": {},
   "cell_type": "code",
   "source": [
    "## Gesamteinnahmen 2024\n",
    "income_df = pc.loc[\n",
    "    (pc.book_date.dt.year == 2024) &\n",
    "    (pc['cat'].isin(['einnahmen::gehalt::andreas', 'einnahmen::gehalt::gesa', 'einnahmen::dividende']))\n",
    "    ]\n",
    "income_df"
   ],
   "outputs": [],
   "execution_count": null
  },
  {
   "metadata": {},
   "cell_type": "code",
   "source": [
    "## Einkommensuebersicht 2024\n",
    "def generate_income_overview(income_df: pd.DataFrame) -> pd.DataFrame:\n",
    "    # Sum by category\n",
    "    category_sum = income_df.groupby('cat')['amount'].sum()\n",
    "\n",
    "    # Overall sum\n",
    "    overall_sum = income_df['amount'].sum()\n",
    "\n",
    "    # Combine results into a DataFrame\n",
    "    overview_df = category_sum.reset_index().rename(columns={'amount': 'category_sum'})\n",
    "    overview_df.loc[len(overview_df)] = ['Overall Sum', overall_sum]\n",
    "\n",
    "    return overview_df\n",
    "# Generate the overview\n",
    "income_overview_df = generate_income_overview(income_df)\n",
    "income_overview_df"
   ],
   "outputs": [],
   "execution_count": null
  },
  {
   "metadata": {},
   "cell_type": "code",
   "source": [
    "## Filter für alle Ausgaben im Jahr 2024\n",
    "expenses_df = pc.loc[\n",
    "    (pc.book_date.dt.year == 2024) &  # Nur Buchungen aus dem Jahr 2024\n",
    "    (~pc['cat'].str.startswith('intern', na=False)) &  # \"intern\"-Kategorie ausschließen\n",
    "    (~pc['cat'].str.startswith('einnahmen', na=False)) &  # \"einnahmen\"-Kategorie ausschließen\n",
    "    (pc['transfer_category'].isna()) &  # transfer_category muss NaN sein\n",
    "    (pc['account'].isin(['giro', 'common', 'gesa']))  # Nur bestimmte Konten berücksichtigen\n",
    "    ]\n",
    "\n",
    "print(expenses_df['amount'].sum())\n",
    "expenses_df"
   ],
   "outputs": [],
   "execution_count": null
  },
  {
   "metadata": {},
   "cell_type": "code",
   "source": [
    "## Ausgaben nach Kategorie, Betragstyp und Konto gruppieren\n",
    "def generate_expense_overview(expenses_df: pd.DataFrame) -> pd.DataFrame:\n",
    "    # Replace NaN in 'cat' with 'Uncategorized'\n",
    "    expenses_df['cat'] = expenses_df['cat'].fillna('Uncategorized')\n",
    "\n",
    "    # Sum by category and account\n",
    "    category_account_sum = expenses_df.groupby(['cat', 'account'])['amount'].sum().unstack(fill_value=0)\n",
    "\n",
    "    # Sum by category across all accounts\n",
    "    category_sum = expenses_df.groupby('cat')['amount'].sum()\n",
    "\n",
    "    # Overall sum across all accounts\n",
    "    overall_sum = expenses_df['amount'].sum()\n",
    "\n",
    "    # Combine results into a DataFrame\n",
    "    overview_df = category_sum.reset_index().rename(columns={'amount': 'category_sum'})\n",
    "    overview_df['giro'] = overview_df['cat'].map(category_account_sum.get('giro', {}))\n",
    "    overview_df['gesa'] = overview_df['cat'].map(category_account_sum.get('gesa', {}))\n",
    "    overview_df['common'] = overview_df['cat'].map(category_account_sum.get('common', {}))\n",
    "\n",
    "    # Add overall sum as a final row\n",
    "    overall_row = pd.DataFrame([{\n",
    "        'cat': 'Overall Sum',\n",
    "        'category_sum': overall_sum,\n",
    "        'giro': category_account_sum.loc[:, 'giro'].sum() if 'giro' in category_account_sum else 0,\n",
    "        'gesa': category_account_sum.loc[:, 'gesa'].sum() if 'gesa' in category_account_sum else 0,\n",
    "        'common': category_account_sum.loc[:, 'common'].sum() if 'common' in category_account_sum else 0,\n",
    "    }])\n",
    "\n",
    "    overview_df = pd.concat([overview_df, overall_row], ignore_index=True)\n",
    "\n",
    "    return overview_df\n",
    "\n",
    "# Generate the overview\n",
    "expense_overview_df = generate_expense_overview(expenses_df)\n",
    "expense_overview_df"
   ],
   "outputs": [],
   "execution_count": null
  },
  {
   "metadata": {},
   "cell_type": "code",
   "outputs": [],
   "execution_count": null,
   "source": "pc[(pc.account == \"giro\") & (pc.amount > 0) & (pc.book_date.dt.year == 2024)]"
  },
  {
   "metadata": {},
   "cell_type": "code",
   "outputs": [],
   "execution_count": null,
   "source": [
    "## Anwaltskosten\n",
    "df['book_date'].min()\n",
    "df = pc\n",
    "filtered_df = df[\n",
    "    df['party'].str.contains('KNH|zirngibl', case=False, na=False) |\n",
    "    df['purpose'].str.contains('KNH|zirngibl', case=False, na=False)\n",
    "    ]\n",
    "filtered_df"
   ]
  },
  {
   "metadata": {},
   "cell_type": "code",
   "outputs": [],
   "execution_count": null,
   "source": [
    "## Anwaltskosten #2\n",
    "filtered_df = df[\n",
    "    df['cat'].str.startswith('anwalt', na=False) |\n",
    "    df['purpose'].str.contains('luig', case=False, na=False) |\n",
    "    df['party'].str.contains('liu', case=False, na=False)\n",
    "    ]\n",
    "filtered_df"
   ]
  },
  {
   "cell_type": "code",
   "source": [
    "# Alle wohnen::putzen Ausgaben fr das Jahr 2023\n",
    "df = pc[(pc.account == 'common') & (pc.book_date > datetime.datetime(2023, 2, 1, 0,0,0)) & (pc.book_date < datetime.datetime(2024, 2, 1, 0,0,0))]\n",
    "filtered_df = df[df['cat'] == 'wohnen::putzen']\n",
    "filtered_df"
   ],
   "metadata": {
    "collapsed": false,
    "is_executing": true
   },
   "outputs": [],
   "execution_count": null
  },
  {
   "metadata": {
    "ExecuteTime": {
     "end_time": "2025-07-06T19:36:12.682104Z",
     "start_time": "2025-07-06T19:36:12.649402Z"
    }
   },
   "cell_type": "code",
   "source": [
    "# Arbeitszimmer 2024: Darlehenszinsen\n",
    "pc[(pc.book_date.dt.year == 2024) & (pc.account == 'common') & (pc.purpose.str.contains('Tilgung', case=False, na=False)) & pc.purpose.str.contains('Leistung')]\n"
   ],
   "outputs": [
    {
     "data": {
      "text/plain": [
       "     account  book_date valuta_date                         party  \\\n",
       "5643  common 2024-01-02  2024-01-02  Andreas Profous Gesa Geisler   \n",
       "5874  common 2024-01-30  2024-01-30  Andreas Profous Gesa Geisler   \n",
       "6126  common 2024-02-29  2024-02-29  Andreas Profous Gesa Geisler   \n",
       "6337  common 2024-04-02  2024-04-02  Andreas Profous Gesa Geisler   \n",
       "6555  common 2024-04-30  2024-04-30  Andreas Profous Gesa Geisler   \n",
       "6824  common 2024-05-30  2024-05-30  Andreas Profous Gesa Geisler   \n",
       "7090  common 2024-07-01  2024-07-01  Andreas Profous Gesa Geisler   \n",
       "7307  common 2024-07-30  2024-07-30  Andreas Profous Gesa Geisler   \n",
       "7595  common 2024-08-30  2024-08-30  Andreas Profous Gesa Geisler   \n",
       "7853  common 2024-09-30  2024-09-30  Andreas Profous Gesa Geisler   \n",
       "8095  common 2024-10-30  2024-10-30  Andreas Profous Gesa Geisler   \n",
       "8344  common 2024-12-02  2024-12-02  Andreas Profous Gesa Geisler   \n",
       "8571  common 2024-12-30  2024-12-30  Andreas Profous Gesa Geisler   \n",
       "\n",
       "        book_text                                            purpose   amount  \\\n",
       "5643  Lastschrift  Rechnung Darl.-Leistung 6070166475 Tilgung 877... -1038.34   \n",
       "5874  Lastschrift  Rechnung Darl.-Leistung 6070166475 Tilgung 888... -1038.34   \n",
       "6126  Lastschrift  Rechnung Darl.-Leistung 6070166475 Tilgung 890... -1038.34   \n",
       "6337  Lastschrift  Rechnung Darl.-Leistung 6070166475 Tilgung 891... -1038.34   \n",
       "6555  Lastschrift  Rechnung Darl.-Leistung 6070166475 Tilgung 891... -1038.34   \n",
       "6824  Lastschrift  Rechnung Darl.-Leistung 6070166475 Tilgung 892... -1038.34   \n",
       "7090  Lastschrift  Rechnung Darl.-Leistung 6070166475 Tilgung 893... -1038.34   \n",
       "7307  Lastschrift  Rechnung Darl.-Leistung 6070166475 Tilgung 893... -1038.34   \n",
       "7595  Lastschrift  Rechnung Darl.-Leistung 6070166475 Tilgung 894... -1038.34   \n",
       "7853  Lastschrift  Rechnung Darl.-Leistung 6070166475 Tilgung 895... -1038.34   \n",
       "8095  Lastschrift  Rechnung Darl.-Leistung 6070166475 Tilgung 896... -1038.34   \n",
       "8344  Lastschrift  Rechnung Darl.-Leistung 6070166475 Tilgung 896... -1038.34   \n",
       "8571  Lastschrift  Rechnung Darl.-Leistung 6070166475 Tilgung 897... -1038.34   \n",
       "\n",
       "      balance transfer_category           cat  \n",
       "5643  1267.06               NaN  wohnen::rate  \n",
       "5874   504.69               NaN  wohnen::rate  \n",
       "6126  1274.84               NaN  wohnen::rate  \n",
       "6337  1878.52               NaN  wohnen::rate  \n",
       "6555   680.33               NaN  wohnen::rate  \n",
       "6824  -816.01               NaN  wohnen::rate  \n",
       "7090   827.24               NaN  wohnen::rate  \n",
       "7307  -920.30               NaN  wohnen::rate  \n",
       "7595  1699.57               NaN  wohnen::rate  \n",
       "7853  -582.13               NaN  wohnen::rate  \n",
       "8095 -1027.93               NaN  wohnen::rate  \n",
       "8344  3427.20               NaN  wohnen::rate  \n",
       "8571  1368.13               NaN  wohnen::rate  "
      ],
      "text/html": [
       "<div>\n",
       "<style scoped>\n",
       "    .dataframe tbody tr th:only-of-type {\n",
       "        vertical-align: middle;\n",
       "    }\n",
       "\n",
       "    .dataframe tbody tr th {\n",
       "        vertical-align: top;\n",
       "    }\n",
       "\n",
       "    .dataframe thead th {\n",
       "        text-align: right;\n",
       "    }\n",
       "</style>\n",
       "<table border=\"1\" class=\"dataframe\">\n",
       "  <thead>\n",
       "    <tr style=\"text-align: right;\">\n",
       "      <th></th>\n",
       "      <th>account</th>\n",
       "      <th>book_date</th>\n",
       "      <th>valuta_date</th>\n",
       "      <th>party</th>\n",
       "      <th>book_text</th>\n",
       "      <th>purpose</th>\n",
       "      <th>amount</th>\n",
       "      <th>balance</th>\n",
       "      <th>transfer_category</th>\n",
       "      <th>cat</th>\n",
       "    </tr>\n",
       "  </thead>\n",
       "  <tbody>\n",
       "    <tr>\n",
       "      <th>5643</th>\n",
       "      <td>common</td>\n",
       "      <td>2024-01-02</td>\n",
       "      <td>2024-01-02</td>\n",
       "      <td>Andreas Profous Gesa Geisler</td>\n",
       "      <td>Lastschrift</td>\n",
       "      <td>Rechnung Darl.-Leistung 6070166475 Tilgung 877...</td>\n",
       "      <td>-1038.34</td>\n",
       "      <td>1267.06</td>\n",
       "      <td>NaN</td>\n",
       "      <td>wohnen::rate</td>\n",
       "    </tr>\n",
       "    <tr>\n",
       "      <th>5874</th>\n",
       "      <td>common</td>\n",
       "      <td>2024-01-30</td>\n",
       "      <td>2024-01-30</td>\n",
       "      <td>Andreas Profous Gesa Geisler</td>\n",
       "      <td>Lastschrift</td>\n",
       "      <td>Rechnung Darl.-Leistung 6070166475 Tilgung 888...</td>\n",
       "      <td>-1038.34</td>\n",
       "      <td>504.69</td>\n",
       "      <td>NaN</td>\n",
       "      <td>wohnen::rate</td>\n",
       "    </tr>\n",
       "    <tr>\n",
       "      <th>6126</th>\n",
       "      <td>common</td>\n",
       "      <td>2024-02-29</td>\n",
       "      <td>2024-02-29</td>\n",
       "      <td>Andreas Profous Gesa Geisler</td>\n",
       "      <td>Lastschrift</td>\n",
       "      <td>Rechnung Darl.-Leistung 6070166475 Tilgung 890...</td>\n",
       "      <td>-1038.34</td>\n",
       "      <td>1274.84</td>\n",
       "      <td>NaN</td>\n",
       "      <td>wohnen::rate</td>\n",
       "    </tr>\n",
       "    <tr>\n",
       "      <th>6337</th>\n",
       "      <td>common</td>\n",
       "      <td>2024-04-02</td>\n",
       "      <td>2024-04-02</td>\n",
       "      <td>Andreas Profous Gesa Geisler</td>\n",
       "      <td>Lastschrift</td>\n",
       "      <td>Rechnung Darl.-Leistung 6070166475 Tilgung 891...</td>\n",
       "      <td>-1038.34</td>\n",
       "      <td>1878.52</td>\n",
       "      <td>NaN</td>\n",
       "      <td>wohnen::rate</td>\n",
       "    </tr>\n",
       "    <tr>\n",
       "      <th>6555</th>\n",
       "      <td>common</td>\n",
       "      <td>2024-04-30</td>\n",
       "      <td>2024-04-30</td>\n",
       "      <td>Andreas Profous Gesa Geisler</td>\n",
       "      <td>Lastschrift</td>\n",
       "      <td>Rechnung Darl.-Leistung 6070166475 Tilgung 891...</td>\n",
       "      <td>-1038.34</td>\n",
       "      <td>680.33</td>\n",
       "      <td>NaN</td>\n",
       "      <td>wohnen::rate</td>\n",
       "    </tr>\n",
       "    <tr>\n",
       "      <th>6824</th>\n",
       "      <td>common</td>\n",
       "      <td>2024-05-30</td>\n",
       "      <td>2024-05-30</td>\n",
       "      <td>Andreas Profous Gesa Geisler</td>\n",
       "      <td>Lastschrift</td>\n",
       "      <td>Rechnung Darl.-Leistung 6070166475 Tilgung 892...</td>\n",
       "      <td>-1038.34</td>\n",
       "      <td>-816.01</td>\n",
       "      <td>NaN</td>\n",
       "      <td>wohnen::rate</td>\n",
       "    </tr>\n",
       "    <tr>\n",
       "      <th>7090</th>\n",
       "      <td>common</td>\n",
       "      <td>2024-07-01</td>\n",
       "      <td>2024-07-01</td>\n",
       "      <td>Andreas Profous Gesa Geisler</td>\n",
       "      <td>Lastschrift</td>\n",
       "      <td>Rechnung Darl.-Leistung 6070166475 Tilgung 893...</td>\n",
       "      <td>-1038.34</td>\n",
       "      <td>827.24</td>\n",
       "      <td>NaN</td>\n",
       "      <td>wohnen::rate</td>\n",
       "    </tr>\n",
       "    <tr>\n",
       "      <th>7307</th>\n",
       "      <td>common</td>\n",
       "      <td>2024-07-30</td>\n",
       "      <td>2024-07-30</td>\n",
       "      <td>Andreas Profous Gesa Geisler</td>\n",
       "      <td>Lastschrift</td>\n",
       "      <td>Rechnung Darl.-Leistung 6070166475 Tilgung 893...</td>\n",
       "      <td>-1038.34</td>\n",
       "      <td>-920.30</td>\n",
       "      <td>NaN</td>\n",
       "      <td>wohnen::rate</td>\n",
       "    </tr>\n",
       "    <tr>\n",
       "      <th>7595</th>\n",
       "      <td>common</td>\n",
       "      <td>2024-08-30</td>\n",
       "      <td>2024-08-30</td>\n",
       "      <td>Andreas Profous Gesa Geisler</td>\n",
       "      <td>Lastschrift</td>\n",
       "      <td>Rechnung Darl.-Leistung 6070166475 Tilgung 894...</td>\n",
       "      <td>-1038.34</td>\n",
       "      <td>1699.57</td>\n",
       "      <td>NaN</td>\n",
       "      <td>wohnen::rate</td>\n",
       "    </tr>\n",
       "    <tr>\n",
       "      <th>7853</th>\n",
       "      <td>common</td>\n",
       "      <td>2024-09-30</td>\n",
       "      <td>2024-09-30</td>\n",
       "      <td>Andreas Profous Gesa Geisler</td>\n",
       "      <td>Lastschrift</td>\n",
       "      <td>Rechnung Darl.-Leistung 6070166475 Tilgung 895...</td>\n",
       "      <td>-1038.34</td>\n",
       "      <td>-582.13</td>\n",
       "      <td>NaN</td>\n",
       "      <td>wohnen::rate</td>\n",
       "    </tr>\n",
       "    <tr>\n",
       "      <th>8095</th>\n",
       "      <td>common</td>\n",
       "      <td>2024-10-30</td>\n",
       "      <td>2024-10-30</td>\n",
       "      <td>Andreas Profous Gesa Geisler</td>\n",
       "      <td>Lastschrift</td>\n",
       "      <td>Rechnung Darl.-Leistung 6070166475 Tilgung 896...</td>\n",
       "      <td>-1038.34</td>\n",
       "      <td>-1027.93</td>\n",
       "      <td>NaN</td>\n",
       "      <td>wohnen::rate</td>\n",
       "    </tr>\n",
       "    <tr>\n",
       "      <th>8344</th>\n",
       "      <td>common</td>\n",
       "      <td>2024-12-02</td>\n",
       "      <td>2024-12-02</td>\n",
       "      <td>Andreas Profous Gesa Geisler</td>\n",
       "      <td>Lastschrift</td>\n",
       "      <td>Rechnung Darl.-Leistung 6070166475 Tilgung 896...</td>\n",
       "      <td>-1038.34</td>\n",
       "      <td>3427.20</td>\n",
       "      <td>NaN</td>\n",
       "      <td>wohnen::rate</td>\n",
       "    </tr>\n",
       "    <tr>\n",
       "      <th>8571</th>\n",
       "      <td>common</td>\n",
       "      <td>2024-12-30</td>\n",
       "      <td>2024-12-30</td>\n",
       "      <td>Andreas Profous Gesa Geisler</td>\n",
       "      <td>Lastschrift</td>\n",
       "      <td>Rechnung Darl.-Leistung 6070166475 Tilgung 897...</td>\n",
       "      <td>-1038.34</td>\n",
       "      <td>1368.13</td>\n",
       "      <td>NaN</td>\n",
       "      <td>wohnen::rate</td>\n",
       "    </tr>\n",
       "  </tbody>\n",
       "</table>\n",
       "</div>"
      ]
     },
     "execution_count": 15,
     "metadata": {},
     "output_type": "execute_result"
    }
   ],
   "execution_count": 15
  },
  {
   "metadata": {
    "ExecuteTime": {
     "end_time": "2025-07-06T19:41:34.360458Z",
     "start_time": "2025-07-06T19:41:34.348040Z"
    }
   },
   "cell_type": "code",
   "source": [
    "# Arbeitszimmer 2024: Stromkosten\n",
    "naturstrom_2024 = pc[pc.party.str.contains('Naturstrom', case=False, na=False) & (pc.book_date.dt.year == 2024)]\n",
    "naturstrom_2024.amount.sum()"
   ],
   "outputs": [
    {
     "data": {
      "text/plain": [
       "np.float64(-1165.35)"
      ]
     },
     "execution_count": 18,
     "metadata": {},
     "output_type": "execute_result"
    }
   ],
   "execution_count": 18
  },
  {
   "metadata": {
    "ExecuteTime": {
     "end_time": "2025-07-06T19:46:12.137505Z",
     "start_time": "2025-07-06T19:46:12.124745Z"
    }
   },
   "cell_type": "code",
   "source": [
    "# Arbeitszimmer 2024: Hausgeld\n",
    "wohngeld = pc[(pc.cat=='wohnen::wohngeld') & (pc.book_date.dt.year == 2024)]\n",
    "wohngeld.amount.sum()"
   ],
   "outputs": [
    {
     "data": {
      "text/plain": [
       "np.float64(-6659.619999999999)"
      ]
     },
     "execution_count": 24,
     "metadata": {},
     "output_type": "execute_result"
    }
   ],
   "execution_count": 24
  },
  {
   "metadata": {
    "ExecuteTime": {
     "end_time": "2025-07-06T19:54:15.449085Z",
     "start_time": "2025-07-06T19:54:15.434291Z"
    }
   },
   "cell_type": "code",
   "source": [
    "# Arbeitszimmer 2024: Grundsteuer\n",
    "grundsteuer = pc[(pc.book_date.dt.year == 2024) & (pc.amount < 0) & (pc.purpose.str.contains('Grundst', case=False, na=False))]\n",
    "grundsteuer.amount.sum()"
   ],
   "outputs": [
    {
     "data": {
      "text/plain": [
       "np.float64(-346.32)"
      ]
     },
     "execution_count": 31,
     "metadata": {},
     "output_type": "execute_result"
    }
   ],
   "execution_count": 31
  },
  {
   "metadata": {
    "ExecuteTime": {
     "end_time": "2025-07-06T20:11:10.220125Z",
     "start_time": "2025-07-06T20:11:10.206751Z"
    }
   },
   "cell_type": "code",
   "source": [
    "# Arbeitszimmer 2024: Telefon Mobil (Internet ist auf kontist, und deswegen hier nicht sichtbar)\n",
    "congstar = pc[(pc.book_date.dt.year == 2024) & (pc.purpose.str.contains('2212684943'))]\n",
    "congstar.amount.sum()\n",
    "\n"
   ],
   "outputs": [
    {
     "data": {
      "text/plain": [
       "np.float64(-438.22)"
      ]
     },
     "execution_count": 53,
     "metadata": {},
     "output_type": "execute_result"
    }
   ],
   "execution_count": 53
  },
  {
   "metadata": {},
   "cell_type": "code",
   "outputs": [],
   "execution_count": null,
   "source": ""
  }
 ],
 "metadata": {
  "kernelspec": {
   "display_name": "Python 3",
   "language": "python",
   "name": "python3"
  },
  "language_info": {
   "codemirror_mode": {
    "name": "ipython",
    "version": 2
   },
   "file_extension": ".py",
   "mimetype": "text/x-python",
   "name": "python",
   "nbconvert_exporter": "python",
   "pygments_lexer": "ipython2",
   "version": "2.7.6"
  }
 },
 "nbformat": 4,
 "nbformat_minor": 0
}
